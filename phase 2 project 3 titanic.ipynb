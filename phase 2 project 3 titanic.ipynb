{
 "cells": [
  {
   "cell_type": "markdown",
   "id": "5a80989a",
   "metadata": {},
   "source": [
    "## Name- Ranjan Pratap Singh                                                      DS2307"
   ]
  },
  {
   "cell_type": "markdown",
   "id": "d1dd8280",
   "metadata": {},
   "source": [
    "# Titanic survived Project\n",
    "## Project Description\n",
    "The Titanic Problem is based on the sinking of the ‘Unsinkable’ ship Titanic in early 1912. It gives you information about multiple people like their ages, sexes, sibling counts, embarkment points, and whether or not they survived the disaster. \n",
    "Based on these features, you have to predict if an arbitrary passenger on Titanic would survive the sinking or not. \n",
    "\n",
    "Attribute Information\n",
    "Passenger id- Unique Id of the passenger\n",
    "Pclass- Passenger Class (1 = 1st; 2 = 2nd; 3 = 3rd)\n",
    "Survived- Survived (0 = No; 1 = Yes)\n",
    "Name- Name of the passenger\n",
    "Sex- Sex of the passenger (Male, Female)\n",
    "Age- Age of the passenger\n",
    "Sibsp- Number of Siblings/Spouses Aboard\n",
    "Parch- Number of Parents/Children Aboard\n",
    "Ticket- Ticket Number\n",
    "Fare- Passenger Fare (British pound)\n",
    "Cabin- Cabin\n",
    "Embarked- Port of Embarkation (C = Cherbourg; Q = Queenstown; S = Southampton)\n",
    "\n"
   ]
  },
  {
   "cell_type": "markdown",
   "id": "c56be58c",
   "metadata": {},
   "source": [
    "### Importing the libraries"
   ]
  },
  {
   "cell_type": "code",
   "execution_count": 1,
   "id": "f0b8a51f",
   "metadata": {},
   "outputs": [],
   "source": [
    "import pandas as pd\n",
    "import numpy as np\n",
    "import seaborn as sns\n",
    "import matplotlib.pyplot as plt\n",
    "import warnings \n",
    "warnings.filterwarnings('ignore')\n",
    "import pickle"
   ]
  },
  {
   "cell_type": "markdown",
   "id": "58e7978c",
   "metadata": {},
   "source": [
    "### Importing Dataset"
   ]
  },
  {
   "cell_type": "code",
   "execution_count": 2,
   "id": "86fdeea8",
   "metadata": {},
   "outputs": [],
   "source": [
    "df = pd.read_csv(r\"C:\\Users\\RANJAN\\OneDrive\\Desktop\\titanic_train.csv\")"
   ]
  },
  {
   "cell_type": "markdown",
   "id": "f66d02ad",
   "metadata": {},
   "source": [
    "### Exploratory Data Analysis(EDA)  ----->"
   ]
  },
  {
   "cell_type": "code",
   "execution_count": 4,
   "id": "906182e3",
   "metadata": {},
   "outputs": [
    {
     "data": {
      "text/html": [
       "<div>\n",
       "<style scoped>\n",
       "    .dataframe tbody tr th:only-of-type {\n",
       "        vertical-align: middle;\n",
       "    }\n",
       "\n",
       "    .dataframe tbody tr th {\n",
       "        vertical-align: top;\n",
       "    }\n",
       "\n",
       "    .dataframe thead th {\n",
       "        text-align: right;\n",
       "    }\n",
       "</style>\n",
       "<table border=\"1\" class=\"dataframe\">\n",
       "  <thead>\n",
       "    <tr style=\"text-align: right;\">\n",
       "      <th></th>\n",
       "      <th>PassengerId</th>\n",
       "      <th>Survived</th>\n",
       "      <th>Pclass</th>\n",
       "      <th>Name</th>\n",
       "      <th>Sex</th>\n",
       "      <th>Age</th>\n",
       "      <th>SibSp</th>\n",
       "      <th>Parch</th>\n",
       "      <th>Ticket</th>\n",
       "      <th>Fare</th>\n",
       "      <th>Cabin</th>\n",
       "      <th>Embarked</th>\n",
       "    </tr>\n",
       "  </thead>\n",
       "  <tbody>\n",
       "    <tr>\n",
       "      <th>0</th>\n",
       "      <td>1</td>\n",
       "      <td>0</td>\n",
       "      <td>3</td>\n",
       "      <td>Braund, Mr. Owen Harris</td>\n",
       "      <td>male</td>\n",
       "      <td>22.0</td>\n",
       "      <td>1</td>\n",
       "      <td>0</td>\n",
       "      <td>A/5 21171</td>\n",
       "      <td>7.2500</td>\n",
       "      <td>NaN</td>\n",
       "      <td>S</td>\n",
       "    </tr>\n",
       "    <tr>\n",
       "      <th>1</th>\n",
       "      <td>2</td>\n",
       "      <td>1</td>\n",
       "      <td>1</td>\n",
       "      <td>Cumings, Mrs. John Bradley (Florence Briggs Th...</td>\n",
       "      <td>female</td>\n",
       "      <td>38.0</td>\n",
       "      <td>1</td>\n",
       "      <td>0</td>\n",
       "      <td>PC 17599</td>\n",
       "      <td>71.2833</td>\n",
       "      <td>C85</td>\n",
       "      <td>C</td>\n",
       "    </tr>\n",
       "    <tr>\n",
       "      <th>2</th>\n",
       "      <td>3</td>\n",
       "      <td>1</td>\n",
       "      <td>3</td>\n",
       "      <td>Heikkinen, Miss. Laina</td>\n",
       "      <td>female</td>\n",
       "      <td>26.0</td>\n",
       "      <td>0</td>\n",
       "      <td>0</td>\n",
       "      <td>STON/O2. 3101282</td>\n",
       "      <td>7.9250</td>\n",
       "      <td>NaN</td>\n",
       "      <td>S</td>\n",
       "    </tr>\n",
       "    <tr>\n",
       "      <th>3</th>\n",
       "      <td>4</td>\n",
       "      <td>1</td>\n",
       "      <td>1</td>\n",
       "      <td>Futrelle, Mrs. Jacques Heath (Lily May Peel)</td>\n",
       "      <td>female</td>\n",
       "      <td>35.0</td>\n",
       "      <td>1</td>\n",
       "      <td>0</td>\n",
       "      <td>113803</td>\n",
       "      <td>53.1000</td>\n",
       "      <td>C123</td>\n",
       "      <td>S</td>\n",
       "    </tr>\n",
       "    <tr>\n",
       "      <th>4</th>\n",
       "      <td>5</td>\n",
       "      <td>0</td>\n",
       "      <td>3</td>\n",
       "      <td>Allen, Mr. William Henry</td>\n",
       "      <td>male</td>\n",
       "      <td>35.0</td>\n",
       "      <td>0</td>\n",
       "      <td>0</td>\n",
       "      <td>373450</td>\n",
       "      <td>8.0500</td>\n",
       "      <td>NaN</td>\n",
       "      <td>S</td>\n",
       "    </tr>\n",
       "    <tr>\n",
       "      <th>...</th>\n",
       "      <td>...</td>\n",
       "      <td>...</td>\n",
       "      <td>...</td>\n",
       "      <td>...</td>\n",
       "      <td>...</td>\n",
       "      <td>...</td>\n",
       "      <td>...</td>\n",
       "      <td>...</td>\n",
       "      <td>...</td>\n",
       "      <td>...</td>\n",
       "      <td>...</td>\n",
       "      <td>...</td>\n",
       "    </tr>\n",
       "    <tr>\n",
       "      <th>886</th>\n",
       "      <td>887</td>\n",
       "      <td>0</td>\n",
       "      <td>2</td>\n",
       "      <td>Montvila, Rev. Juozas</td>\n",
       "      <td>male</td>\n",
       "      <td>27.0</td>\n",
       "      <td>0</td>\n",
       "      <td>0</td>\n",
       "      <td>211536</td>\n",
       "      <td>13.0000</td>\n",
       "      <td>NaN</td>\n",
       "      <td>S</td>\n",
       "    </tr>\n",
       "    <tr>\n",
       "      <th>887</th>\n",
       "      <td>888</td>\n",
       "      <td>1</td>\n",
       "      <td>1</td>\n",
       "      <td>Graham, Miss. Margaret Edith</td>\n",
       "      <td>female</td>\n",
       "      <td>19.0</td>\n",
       "      <td>0</td>\n",
       "      <td>0</td>\n",
       "      <td>112053</td>\n",
       "      <td>30.0000</td>\n",
       "      <td>B42</td>\n",
       "      <td>S</td>\n",
       "    </tr>\n",
       "    <tr>\n",
       "      <th>888</th>\n",
       "      <td>889</td>\n",
       "      <td>0</td>\n",
       "      <td>3</td>\n",
       "      <td>Johnston, Miss. Catherine Helen \"Carrie\"</td>\n",
       "      <td>female</td>\n",
       "      <td>NaN</td>\n",
       "      <td>1</td>\n",
       "      <td>2</td>\n",
       "      <td>W./C. 6607</td>\n",
       "      <td>23.4500</td>\n",
       "      <td>NaN</td>\n",
       "      <td>S</td>\n",
       "    </tr>\n",
       "    <tr>\n",
       "      <th>889</th>\n",
       "      <td>890</td>\n",
       "      <td>1</td>\n",
       "      <td>1</td>\n",
       "      <td>Behr, Mr. Karl Howell</td>\n",
       "      <td>male</td>\n",
       "      <td>26.0</td>\n",
       "      <td>0</td>\n",
       "      <td>0</td>\n",
       "      <td>111369</td>\n",
       "      <td>30.0000</td>\n",
       "      <td>C148</td>\n",
       "      <td>C</td>\n",
       "    </tr>\n",
       "    <tr>\n",
       "      <th>890</th>\n",
       "      <td>891</td>\n",
       "      <td>0</td>\n",
       "      <td>3</td>\n",
       "      <td>Dooley, Mr. Patrick</td>\n",
       "      <td>male</td>\n",
       "      <td>32.0</td>\n",
       "      <td>0</td>\n",
       "      <td>0</td>\n",
       "      <td>370376</td>\n",
       "      <td>7.7500</td>\n",
       "      <td>NaN</td>\n",
       "      <td>Q</td>\n",
       "    </tr>\n",
       "  </tbody>\n",
       "</table>\n",
       "<p>891 rows × 12 columns</p>\n",
       "</div>"
      ],
      "text/plain": [
       "     PassengerId  Survived  Pclass  \\\n",
       "0              1         0       3   \n",
       "1              2         1       1   \n",
       "2              3         1       3   \n",
       "3              4         1       1   \n",
       "4              5         0       3   \n",
       "..           ...       ...     ...   \n",
       "886          887         0       2   \n",
       "887          888         1       1   \n",
       "888          889         0       3   \n",
       "889          890         1       1   \n",
       "890          891         0       3   \n",
       "\n",
       "                                                  Name     Sex   Age  SibSp  \\\n",
       "0                              Braund, Mr. Owen Harris    male  22.0      1   \n",
       "1    Cumings, Mrs. John Bradley (Florence Briggs Th...  female  38.0      1   \n",
       "2                               Heikkinen, Miss. Laina  female  26.0      0   \n",
       "3         Futrelle, Mrs. Jacques Heath (Lily May Peel)  female  35.0      1   \n",
       "4                             Allen, Mr. William Henry    male  35.0      0   \n",
       "..                                                 ...     ...   ...    ...   \n",
       "886                              Montvila, Rev. Juozas    male  27.0      0   \n",
       "887                       Graham, Miss. Margaret Edith  female  19.0      0   \n",
       "888           Johnston, Miss. Catherine Helen \"Carrie\"  female   NaN      1   \n",
       "889                              Behr, Mr. Karl Howell    male  26.0      0   \n",
       "890                                Dooley, Mr. Patrick    male  32.0      0   \n",
       "\n",
       "     Parch            Ticket     Fare Cabin Embarked  \n",
       "0        0         A/5 21171   7.2500   NaN        S  \n",
       "1        0          PC 17599  71.2833   C85        C  \n",
       "2        0  STON/O2. 3101282   7.9250   NaN        S  \n",
       "3        0            113803  53.1000  C123        S  \n",
       "4        0            373450   8.0500   NaN        S  \n",
       "..     ...               ...      ...   ...      ...  \n",
       "886      0            211536  13.0000   NaN        S  \n",
       "887      0            112053  30.0000   B42        S  \n",
       "888      2        W./C. 6607  23.4500   NaN        S  \n",
       "889      0            111369  30.0000  C148        C  \n",
       "890      0            370376   7.7500   NaN        Q  \n",
       "\n",
       "[891 rows x 12 columns]"
      ]
     },
     "execution_count": 4,
     "metadata": {},
     "output_type": "execute_result"
    }
   ],
   "source": [
    "df\n"
   ]
  },
  {
   "cell_type": "markdown",
   "id": "ee5d28e8",
   "metadata": {},
   "source": [
    "###### Our dataset of titanic surviaval project has the shape of 891 rows and 12 columns . it tells us about people who survived and people who did't. Our target variable is  \"Survived \" which contain 0 (i.e. not survived )and 1 (i.e. survived). therefore it contains categorical values , so we have classification problem so we will use classification model to train , test and predict the data. "
   ]
  },
  {
   "cell_type": "markdown",
   "id": "4383dd3e",
   "metadata": {},
   "source": [
    "setting Passangerid as index"
   ]
  },
  {
   "cell_type": "code",
   "execution_count": 5,
   "id": "93ff7fee",
   "metadata": {},
   "outputs": [],
   "source": [
    "df.set_index(df.columns[0], inplace=True)\n"
   ]
  },
  {
   "cell_type": "markdown",
   "id": "fe5e1b55",
   "metadata": {},
   "source": [
    "##### ---->checking for duplicated values"
   ]
  },
  {
   "cell_type": "code",
   "execution_count": 6,
   "id": "51e9356b",
   "metadata": {},
   "outputs": [
    {
     "data": {
      "text/plain": [
       "0"
      ]
     },
     "execution_count": 6,
     "metadata": {},
     "output_type": "execute_result"
    }
   ],
   "source": [
    "df.duplicated().sum()"
   ]
  },
  {
   "cell_type": "code",
   "execution_count": 7,
   "id": "76cfb5c1",
   "metadata": {},
   "outputs": [
    {
     "name": "stdout",
     "output_type": "stream",
     "text": [
      "<class 'pandas.core.frame.DataFrame'>\n",
      "Int64Index: 891 entries, 1 to 891\n",
      "Data columns (total 11 columns):\n",
      " #   Column    Non-Null Count  Dtype  \n",
      "---  ------    --------------  -----  \n",
      " 0   Survived  891 non-null    int64  \n",
      " 1   Pclass    891 non-null    int64  \n",
      " 2   Name      891 non-null    object \n",
      " 3   Sex       891 non-null    object \n",
      " 4   Age       714 non-null    float64\n",
      " 5   SibSp     891 non-null    int64  \n",
      " 6   Parch     891 non-null    int64  \n",
      " 7   Ticket    891 non-null    object \n",
      " 8   Fare      891 non-null    float64\n",
      " 9   Cabin     204 non-null    object \n",
      " 10  Embarked  889 non-null    object \n",
      "dtypes: float64(2), int64(4), object(5)\n",
      "memory usage: 83.5+ KB\n"
     ]
    }
   ],
   "source": [
    "df.info()"
   ]
  },
  {
   "cell_type": "code",
   "execution_count": 8,
   "id": "3ff3be95",
   "metadata": {},
   "outputs": [
    {
     "data": {
      "text/plain": [
       "Survived      0\n",
       "Pclass        0\n",
       "Name          0\n",
       "Sex           0\n",
       "Age         177\n",
       "SibSp         0\n",
       "Parch         0\n",
       "Ticket        0\n",
       "Fare          0\n",
       "Cabin       687\n",
       "Embarked      2\n",
       "dtype: int64"
      ]
     },
     "execution_count": 8,
     "metadata": {},
     "output_type": "execute_result"
    }
   ],
   "source": [
    "df.isnull().sum()"
   ]
  },
  {
   "cell_type": "markdown",
   "id": "59d6362e",
   "metadata": {},
   "source": [
    "#### Here we observe our datatypes . \n",
    "We observe that  our features have  all datatypes -'float64', int and object(string)\n",
    "#### We can see that there are null values in the coulmn \"age\", \"Cabin\" and \"Embarked\" to check if there can be more null values we will check for white spaces "
   ]
  },
  {
   "cell_type": "code",
   "execution_count": 9,
   "id": "f1fd183c",
   "metadata": {},
   "outputs": [
    {
     "name": "stdout",
     "output_type": "stream",
     "text": [
      "0    549\n",
      "1    342\n",
      "Name: Survived, dtype: int64\n",
      "\n",
      "\n",
      "3    491\n",
      "1    216\n",
      "2    184\n",
      "Name: Pclass, dtype: int64\n",
      "\n",
      "\n",
      "Braund, Mr. Owen Harris                     1\n",
      "Boulos, Mr. Hanna                           1\n",
      "Frolicher-Stehli, Mr. Maxmillian            1\n",
      "Gilinski, Mr. Eliezer                       1\n",
      "Murdlin, Mr. Joseph                         1\n",
      "                                           ..\n",
      "Kelly, Miss. Anna Katherine \"Annie Kate\"    1\n",
      "McCoy, Mr. Bernard                          1\n",
      "Johnson, Mr. William Cahoone Jr             1\n",
      "Keane, Miss. Nora A                         1\n",
      "Dooley, Mr. Patrick                         1\n",
      "Name: Name, Length: 891, dtype: int64\n",
      "\n",
      "\n",
      "male      577\n",
      "female    314\n",
      "Name: Sex, dtype: int64\n",
      "\n",
      "\n",
      "24.00    30\n",
      "22.00    27\n",
      "18.00    26\n",
      "19.00    25\n",
      "28.00    25\n",
      "         ..\n",
      "36.50     1\n",
      "55.50     1\n",
      "0.92      1\n",
      "23.50     1\n",
      "74.00     1\n",
      "Name: Age, Length: 88, dtype: int64\n",
      "\n",
      "\n",
      "0    608\n",
      "1    209\n",
      "2     28\n",
      "4     18\n",
      "3     16\n",
      "8      7\n",
      "5      5\n",
      "Name: SibSp, dtype: int64\n",
      "\n",
      "\n",
      "0    678\n",
      "1    118\n",
      "2     80\n",
      "5      5\n",
      "3      5\n",
      "4      4\n",
      "6      1\n",
      "Name: Parch, dtype: int64\n",
      "\n",
      "\n",
      "347082      7\n",
      "CA. 2343    7\n",
      "1601        7\n",
      "3101295     6\n",
      "CA 2144     6\n",
      "           ..\n",
      "9234        1\n",
      "19988       1\n",
      "2693        1\n",
      "PC 17612    1\n",
      "370376      1\n",
      "Name: Ticket, Length: 681, dtype: int64\n",
      "\n",
      "\n",
      "8.0500     43\n",
      "13.0000    42\n",
      "7.8958     38\n",
      "7.7500     34\n",
      "26.0000    31\n",
      "           ..\n",
      "35.0000     1\n",
      "28.5000     1\n",
      "6.2375      1\n",
      "14.0000     1\n",
      "10.5167     1\n",
      "Name: Fare, Length: 248, dtype: int64\n",
      "\n",
      "\n",
      "B96 B98        4\n",
      "G6             4\n",
      "C23 C25 C27    4\n",
      "C22 C26        3\n",
      "F33            3\n",
      "              ..\n",
      "E34            1\n",
      "C7             1\n",
      "C54            1\n",
      "E36            1\n",
      "C148           1\n",
      "Name: Cabin, Length: 147, dtype: int64\n",
      "\n",
      "\n",
      "S    644\n",
      "C    168\n",
      "Q     77\n",
      "Name: Embarked, dtype: int64\n",
      "\n",
      "\n"
     ]
    }
   ],
   "source": [
    "#  checking the values counts pf each column\n",
    "for i in df.columns:\n",
    "    print(df[i].value_counts())\n",
    "    print(\"\\n\")\n",
    "      "
   ]
  },
  {
   "cell_type": "markdown",
   "id": "bc9e0f4d",
   "metadata": {},
   "source": [
    "#### as we can see there are no white spaces in the  dataset  \n",
    "###### for null values--  for age we use meadin and for Embarked we use mode method "
   ]
  },
  {
   "cell_type": "code",
   "execution_count": 10,
   "id": "f545ada7",
   "metadata": {},
   "outputs": [],
   "source": [
    "df['Age'].fillna(df['Age'].median(), inplace=True)\n",
    "df['Embarked'].fillna(df['Embarked'].mode()[0], inplace=True)\n"
   ]
  },
  {
   "cell_type": "code",
   "execution_count": 11,
   "id": "00164e43",
   "metadata": {},
   "outputs": [
    {
     "data": {
      "text/plain": [
       "Survived      0\n",
       "Pclass        0\n",
       "Name          0\n",
       "Sex           0\n",
       "Age           0\n",
       "SibSp         0\n",
       "Parch         0\n",
       "Ticket        0\n",
       "Fare          0\n",
       "Cabin       687\n",
       "Embarked      0\n",
       "dtype: int64"
      ]
     },
     "execution_count": 11,
     "metadata": {},
     "output_type": "execute_result"
    }
   ],
   "source": [
    "df.isnull().sum()"
   ]
  },
  {
   "cell_type": "markdown",
   "id": "ee35c988",
   "metadata": {},
   "source": [
    "##### as number of nullvlaues are so much in Cabin so we are dropping the Cabin "
   ]
  },
  {
   "cell_type": "code",
   "execution_count": 12,
   "id": "c22e60c7",
   "metadata": {},
   "outputs": [],
   "source": [
    "df = df.drop('Cabin',axis = 1)"
   ]
  },
  {
   "cell_type": "code",
   "execution_count": 13,
   "id": "4ccd18d8",
   "metadata": {},
   "outputs": [
    {
     "data": {
      "text/html": [
       "<div>\n",
       "<style scoped>\n",
       "    .dataframe tbody tr th:only-of-type {\n",
       "        vertical-align: middle;\n",
       "    }\n",
       "\n",
       "    .dataframe tbody tr th {\n",
       "        vertical-align: top;\n",
       "    }\n",
       "\n",
       "    .dataframe thead th {\n",
       "        text-align: right;\n",
       "    }\n",
       "</style>\n",
       "<table border=\"1\" class=\"dataframe\">\n",
       "  <thead>\n",
       "    <tr style=\"text-align: right;\">\n",
       "      <th></th>\n",
       "      <th>Survived</th>\n",
       "      <th>Pclass</th>\n",
       "      <th>Name</th>\n",
       "      <th>Sex</th>\n",
       "      <th>Age</th>\n",
       "      <th>SibSp</th>\n",
       "      <th>Parch</th>\n",
       "      <th>Ticket</th>\n",
       "      <th>Fare</th>\n",
       "      <th>Embarked</th>\n",
       "    </tr>\n",
       "    <tr>\n",
       "      <th>PassengerId</th>\n",
       "      <th></th>\n",
       "      <th></th>\n",
       "      <th></th>\n",
       "      <th></th>\n",
       "      <th></th>\n",
       "      <th></th>\n",
       "      <th></th>\n",
       "      <th></th>\n",
       "      <th></th>\n",
       "      <th></th>\n",
       "    </tr>\n",
       "  </thead>\n",
       "  <tbody>\n",
       "    <tr>\n",
       "      <th>1</th>\n",
       "      <td>0</td>\n",
       "      <td>3</td>\n",
       "      <td>Braund, Mr. Owen Harris</td>\n",
       "      <td>male</td>\n",
       "      <td>22.0</td>\n",
       "      <td>1</td>\n",
       "      <td>0</td>\n",
       "      <td>A/5 21171</td>\n",
       "      <td>7.2500</td>\n",
       "      <td>S</td>\n",
       "    </tr>\n",
       "    <tr>\n",
       "      <th>2</th>\n",
       "      <td>1</td>\n",
       "      <td>1</td>\n",
       "      <td>Cumings, Mrs. John Bradley (Florence Briggs Th...</td>\n",
       "      <td>female</td>\n",
       "      <td>38.0</td>\n",
       "      <td>1</td>\n",
       "      <td>0</td>\n",
       "      <td>PC 17599</td>\n",
       "      <td>71.2833</td>\n",
       "      <td>C</td>\n",
       "    </tr>\n",
       "    <tr>\n",
       "      <th>3</th>\n",
       "      <td>1</td>\n",
       "      <td>3</td>\n",
       "      <td>Heikkinen, Miss. Laina</td>\n",
       "      <td>female</td>\n",
       "      <td>26.0</td>\n",
       "      <td>0</td>\n",
       "      <td>0</td>\n",
       "      <td>STON/O2. 3101282</td>\n",
       "      <td>7.9250</td>\n",
       "      <td>S</td>\n",
       "    </tr>\n",
       "    <tr>\n",
       "      <th>4</th>\n",
       "      <td>1</td>\n",
       "      <td>1</td>\n",
       "      <td>Futrelle, Mrs. Jacques Heath (Lily May Peel)</td>\n",
       "      <td>female</td>\n",
       "      <td>35.0</td>\n",
       "      <td>1</td>\n",
       "      <td>0</td>\n",
       "      <td>113803</td>\n",
       "      <td>53.1000</td>\n",
       "      <td>S</td>\n",
       "    </tr>\n",
       "    <tr>\n",
       "      <th>5</th>\n",
       "      <td>0</td>\n",
       "      <td>3</td>\n",
       "      <td>Allen, Mr. William Henry</td>\n",
       "      <td>male</td>\n",
       "      <td>35.0</td>\n",
       "      <td>0</td>\n",
       "      <td>0</td>\n",
       "      <td>373450</td>\n",
       "      <td>8.0500</td>\n",
       "      <td>S</td>\n",
       "    </tr>\n",
       "    <tr>\n",
       "      <th>...</th>\n",
       "      <td>...</td>\n",
       "      <td>...</td>\n",
       "      <td>...</td>\n",
       "      <td>...</td>\n",
       "      <td>...</td>\n",
       "      <td>...</td>\n",
       "      <td>...</td>\n",
       "      <td>...</td>\n",
       "      <td>...</td>\n",
       "      <td>...</td>\n",
       "    </tr>\n",
       "    <tr>\n",
       "      <th>887</th>\n",
       "      <td>0</td>\n",
       "      <td>2</td>\n",
       "      <td>Montvila, Rev. Juozas</td>\n",
       "      <td>male</td>\n",
       "      <td>27.0</td>\n",
       "      <td>0</td>\n",
       "      <td>0</td>\n",
       "      <td>211536</td>\n",
       "      <td>13.0000</td>\n",
       "      <td>S</td>\n",
       "    </tr>\n",
       "    <tr>\n",
       "      <th>888</th>\n",
       "      <td>1</td>\n",
       "      <td>1</td>\n",
       "      <td>Graham, Miss. Margaret Edith</td>\n",
       "      <td>female</td>\n",
       "      <td>19.0</td>\n",
       "      <td>0</td>\n",
       "      <td>0</td>\n",
       "      <td>112053</td>\n",
       "      <td>30.0000</td>\n",
       "      <td>S</td>\n",
       "    </tr>\n",
       "    <tr>\n",
       "      <th>889</th>\n",
       "      <td>0</td>\n",
       "      <td>3</td>\n",
       "      <td>Johnston, Miss. Catherine Helen \"Carrie\"</td>\n",
       "      <td>female</td>\n",
       "      <td>28.0</td>\n",
       "      <td>1</td>\n",
       "      <td>2</td>\n",
       "      <td>W./C. 6607</td>\n",
       "      <td>23.4500</td>\n",
       "      <td>S</td>\n",
       "    </tr>\n",
       "    <tr>\n",
       "      <th>890</th>\n",
       "      <td>1</td>\n",
       "      <td>1</td>\n",
       "      <td>Behr, Mr. Karl Howell</td>\n",
       "      <td>male</td>\n",
       "      <td>26.0</td>\n",
       "      <td>0</td>\n",
       "      <td>0</td>\n",
       "      <td>111369</td>\n",
       "      <td>30.0000</td>\n",
       "      <td>C</td>\n",
       "    </tr>\n",
       "    <tr>\n",
       "      <th>891</th>\n",
       "      <td>0</td>\n",
       "      <td>3</td>\n",
       "      <td>Dooley, Mr. Patrick</td>\n",
       "      <td>male</td>\n",
       "      <td>32.0</td>\n",
       "      <td>0</td>\n",
       "      <td>0</td>\n",
       "      <td>370376</td>\n",
       "      <td>7.7500</td>\n",
       "      <td>Q</td>\n",
       "    </tr>\n",
       "  </tbody>\n",
       "</table>\n",
       "<p>891 rows × 10 columns</p>\n",
       "</div>"
      ],
      "text/plain": [
       "             Survived  Pclass  \\\n",
       "PassengerId                     \n",
       "1                   0       3   \n",
       "2                   1       1   \n",
       "3                   1       3   \n",
       "4                   1       1   \n",
       "5                   0       3   \n",
       "...               ...     ...   \n",
       "887                 0       2   \n",
       "888                 1       1   \n",
       "889                 0       3   \n",
       "890                 1       1   \n",
       "891                 0       3   \n",
       "\n",
       "                                                          Name     Sex   Age  \\\n",
       "PassengerId                                                                    \n",
       "1                                      Braund, Mr. Owen Harris    male  22.0   \n",
       "2            Cumings, Mrs. John Bradley (Florence Briggs Th...  female  38.0   \n",
       "3                                       Heikkinen, Miss. Laina  female  26.0   \n",
       "4                 Futrelle, Mrs. Jacques Heath (Lily May Peel)  female  35.0   \n",
       "5                                     Allen, Mr. William Henry    male  35.0   \n",
       "...                                                        ...     ...   ...   \n",
       "887                                      Montvila, Rev. Juozas    male  27.0   \n",
       "888                               Graham, Miss. Margaret Edith  female  19.0   \n",
       "889                   Johnston, Miss. Catherine Helen \"Carrie\"  female  28.0   \n",
       "890                                      Behr, Mr. Karl Howell    male  26.0   \n",
       "891                                        Dooley, Mr. Patrick    male  32.0   \n",
       "\n",
       "             SibSp  Parch            Ticket     Fare Embarked  \n",
       "PassengerId                                                    \n",
       "1                1      0         A/5 21171   7.2500        S  \n",
       "2                1      0          PC 17599  71.2833        C  \n",
       "3                0      0  STON/O2. 3101282   7.9250        S  \n",
       "4                1      0            113803  53.1000        S  \n",
       "5                0      0            373450   8.0500        S  \n",
       "...            ...    ...               ...      ...      ...  \n",
       "887              0      0            211536  13.0000        S  \n",
       "888              0      0            112053  30.0000        S  \n",
       "889              1      2        W./C. 6607  23.4500        S  \n",
       "890              0      0            111369  30.0000        C  \n",
       "891              0      0            370376   7.7500        Q  \n",
       "\n",
       "[891 rows x 10 columns]"
      ]
     },
     "execution_count": 13,
     "metadata": {},
     "output_type": "execute_result"
    }
   ],
   "source": [
    "df"
   ]
  },
  {
   "cell_type": "code",
   "execution_count": 14,
   "id": "1ee55b08",
   "metadata": {},
   "outputs": [
    {
     "data": {
      "text/plain": [
       "Survived    0\n",
       "Pclass      0\n",
       "Name        0\n",
       "Sex         0\n",
       "Age         0\n",
       "SibSp       0\n",
       "Parch       0\n",
       "Ticket      0\n",
       "Fare        0\n",
       "Embarked    0\n",
       "dtype: int64"
      ]
     },
     "execution_count": 14,
     "metadata": {},
     "output_type": "execute_result"
    }
   ],
   "source": [
    "df.isnull().sum()"
   ]
  },
  {
   "cell_type": "markdown",
   "id": "54f65092",
   "metadata": {},
   "source": [
    "Now we can see that there are no null values"
   ]
  },
  {
   "cell_type": "code",
   "execution_count": 15,
   "id": "61f877e7",
   "metadata": {},
   "outputs": [
    {
     "data": {
      "text/html": [
       "<div>\n",
       "<style scoped>\n",
       "    .dataframe tbody tr th:only-of-type {\n",
       "        vertical-align: middle;\n",
       "    }\n",
       "\n",
       "    .dataframe tbody tr th {\n",
       "        vertical-align: top;\n",
       "    }\n",
       "\n",
       "    .dataframe thead th {\n",
       "        text-align: right;\n",
       "    }\n",
       "</style>\n",
       "<table border=\"1\" class=\"dataframe\">\n",
       "  <thead>\n",
       "    <tr style=\"text-align: right;\">\n",
       "      <th></th>\n",
       "      <th>Survived</th>\n",
       "      <th>Pclass</th>\n",
       "      <th>Age</th>\n",
       "      <th>SibSp</th>\n",
       "      <th>Parch</th>\n",
       "      <th>Fare</th>\n",
       "    </tr>\n",
       "  </thead>\n",
       "  <tbody>\n",
       "    <tr>\n",
       "      <th>count</th>\n",
       "      <td>891.000000</td>\n",
       "      <td>891.000000</td>\n",
       "      <td>891.000000</td>\n",
       "      <td>891.000000</td>\n",
       "      <td>891.000000</td>\n",
       "      <td>891.000000</td>\n",
       "    </tr>\n",
       "    <tr>\n",
       "      <th>mean</th>\n",
       "      <td>0.383838</td>\n",
       "      <td>2.308642</td>\n",
       "      <td>29.361582</td>\n",
       "      <td>0.523008</td>\n",
       "      <td>0.381594</td>\n",
       "      <td>32.204208</td>\n",
       "    </tr>\n",
       "    <tr>\n",
       "      <th>std</th>\n",
       "      <td>0.486592</td>\n",
       "      <td>0.836071</td>\n",
       "      <td>13.019697</td>\n",
       "      <td>1.102743</td>\n",
       "      <td>0.806057</td>\n",
       "      <td>49.693429</td>\n",
       "    </tr>\n",
       "    <tr>\n",
       "      <th>min</th>\n",
       "      <td>0.000000</td>\n",
       "      <td>1.000000</td>\n",
       "      <td>0.420000</td>\n",
       "      <td>0.000000</td>\n",
       "      <td>0.000000</td>\n",
       "      <td>0.000000</td>\n",
       "    </tr>\n",
       "    <tr>\n",
       "      <th>25%</th>\n",
       "      <td>0.000000</td>\n",
       "      <td>2.000000</td>\n",
       "      <td>22.000000</td>\n",
       "      <td>0.000000</td>\n",
       "      <td>0.000000</td>\n",
       "      <td>7.910400</td>\n",
       "    </tr>\n",
       "    <tr>\n",
       "      <th>50%</th>\n",
       "      <td>0.000000</td>\n",
       "      <td>3.000000</td>\n",
       "      <td>28.000000</td>\n",
       "      <td>0.000000</td>\n",
       "      <td>0.000000</td>\n",
       "      <td>14.454200</td>\n",
       "    </tr>\n",
       "    <tr>\n",
       "      <th>75%</th>\n",
       "      <td>1.000000</td>\n",
       "      <td>3.000000</td>\n",
       "      <td>35.000000</td>\n",
       "      <td>1.000000</td>\n",
       "      <td>0.000000</td>\n",
       "      <td>31.000000</td>\n",
       "    </tr>\n",
       "    <tr>\n",
       "      <th>max</th>\n",
       "      <td>1.000000</td>\n",
       "      <td>3.000000</td>\n",
       "      <td>80.000000</td>\n",
       "      <td>8.000000</td>\n",
       "      <td>6.000000</td>\n",
       "      <td>512.329200</td>\n",
       "    </tr>\n",
       "  </tbody>\n",
       "</table>\n",
       "</div>"
      ],
      "text/plain": [
       "         Survived      Pclass         Age       SibSp       Parch        Fare\n",
       "count  891.000000  891.000000  891.000000  891.000000  891.000000  891.000000\n",
       "mean     0.383838    2.308642   29.361582    0.523008    0.381594   32.204208\n",
       "std      0.486592    0.836071   13.019697    1.102743    0.806057   49.693429\n",
       "min      0.000000    1.000000    0.420000    0.000000    0.000000    0.000000\n",
       "25%      0.000000    2.000000   22.000000    0.000000    0.000000    7.910400\n",
       "50%      0.000000    3.000000   28.000000    0.000000    0.000000   14.454200\n",
       "75%      1.000000    3.000000   35.000000    1.000000    0.000000   31.000000\n",
       "max      1.000000    3.000000   80.000000    8.000000    6.000000  512.329200"
      ]
     },
     "execution_count": 15,
     "metadata": {},
     "output_type": "execute_result"
    }
   ],
   "source": [
    "df.describe()"
   ]
  },
  {
   "cell_type": "markdown",
   "id": "c7daffdd",
   "metadata": {},
   "source": [
    "In description we have count,mean, standard deviation(STD) , minimum(min), 25%,50%(median),75%,maximum(max)\n",
    "\n",
    "as we can see that there is no negative value so our description of dataset is valid \n",
    "\n",
    "number of observations are same in all columns so there is no missing values\n",
    "\n",
    "if we compare mean with median i.e. 50% we can see in the age it is almost similar so it is normall distributed and in the Fare mean is more than the median so we can say that it is rightly skewed\n",
    "\n",
    "if we see for outliers we can see that fare can have outliers we will see later in this model "
   ]
  },
  {
   "cell_type": "markdown",
   "id": "fd939718",
   "metadata": {},
   "source": [
    "### Data visualisation "
   ]
  },
  {
   "cell_type": "markdown",
   "id": "988f2a2d",
   "metadata": {},
   "source": [
    "-- Univariate Analysis"
   ]
  },
  {
   "cell_type": "code",
   "execution_count": 16,
   "id": "32465bec",
   "metadata": {},
   "outputs": [
    {
     "data": {
      "image/png": "[encoded data removed]",
      "text/plain": [
       "<Figure size 640x480 with 1 Axes>"
      ]
     },
     "metadata": {},
     "output_type": "display_data"
    },
    {
     "data": {
      "text/plain": [
       "0    549\n",
       "1    342\n",
       "Name: Survived, dtype: int64"
      ]
     },
     "execution_count": 16,
     "metadata": {},
     "output_type": "execute_result"
    }
   ],
   "source": [
    "sns.countplot(x='Survived' , data = df )\n",
    "plt.xlabel('Survived',color = 'r')\n",
    "plt.grid(axis ='y')\n",
    "plt.show()\n",
    "df.Survived.value_counts()"
   ]
  },
  {
   "cell_type": "markdown",
   "id": "f0dc177b",
   "metadata": {},
   "source": [
    "By the graph we can see that number of not survived(0) people is far more than people who survived(1)  "
   ]
  },
  {
   "cell_type": "code",
   "execution_count": 17,
   "id": "d234c5c5",
   "metadata": {},
   "outputs": [
    {
     "data": {
      "image/png": "[encoded data removed]",
      "text/plain": [
       "<Figure size 640x480 with 1 Axes>"
      ]
     },
     "metadata": {},
     "output_type": "display_data"
    },
    {
     "data": {
      "text/plain": [
       "3    491\n",
       "1    216\n",
       "2    184\n",
       "Name: Pclass, dtype: int64"
      ]
     },
     "execution_count": 17,
     "metadata": {},
     "output_type": "execute_result"
    }
   ],
   "source": [
    "sns.countplot(x='Pclass' , data = df )\n",
    "plt.xlabel('Pclass',color = 'r')\n",
    "plt.grid(axis ='y')\n",
    "plt.show()\n",
    "df.Pclass.value_counts()"
   ]
  },
  {
   "cell_type": "markdown",
   "id": "b032665d",
   "metadata": {},
   "source": [
    "In this graph we can see that 3rd class(3) has more number of people then we can see first class(1) has second highest people  and then we have 2nd class(2)"
   ]
  },
  {
   "cell_type": "code",
   "execution_count": 18,
   "id": "a80a0e91",
   "metadata": {},
   "outputs": [
    {
     "data": {
      "image/png": "[encoded data removed]",
      "text/plain": [
       "<Figure size 640x480 with 1 Axes>"
      ]
     },
     "metadata": {},
     "output_type": "display_data"
    },
    {
     "data": {
      "text/plain": [
       "male      577\n",
       "female    314\n",
       "Name: Sex, dtype: int64"
      ]
     },
     "execution_count": 18,
     "metadata": {},
     "output_type": "execute_result"
    }
   ],
   "source": [
    "sns.countplot(x='Sex' , data = df )\n",
    "plt.xlabel('Sex',color = 'r')\n",
    "plt.grid(axis ='y')\n",
    "plt.show()\n",
    "df.Sex.value_counts()"
   ]
  },
  {
   "cell_type": "markdown",
   "id": "d2497ea8",
   "metadata": {},
   "source": [
    "in this gragph we can see at Titanic number of male are more than number of female."
   ]
  },
  {
   "cell_type": "code",
   "execution_count": 19,
   "id": "596796b6",
   "metadata": {},
   "outputs": [
    {
     "data": {
      "image/png": "[encoded data removed]",
      "text/plain": [
       "<Figure size 640x480 with 1 Axes>"
      ]
     },
     "metadata": {},
     "output_type": "display_data"
    }
   ],
   "source": [
    "sns.histplot(x='Age' , data = df )\n",
    "plt.xlabel('Age',color = 'r')\n",
    "plt.grid(axis ='y')\n",
    "plt.show()\n"
   ]
  },
  {
   "cell_type": "markdown",
   "id": "877ef88f",
   "metadata": {},
   "source": [
    "in the age graph we can see that data is normally distributed "
   ]
  },
  {
   "cell_type": "code",
   "execution_count": 20,
   "id": "19605a17",
   "metadata": {},
   "outputs": [
    {
     "data": {
      "image/png": "[encoded data removed]",
      "text/plain": [
       "<Figure size 640x480 with 1 Axes>"
      ]
     },
     "metadata": {},
     "output_type": "display_data"
    }
   ],
   "source": [
    "sns.histplot(x='Fare' , data = df )\n",
    "plt.xlabel('Fare',color = 'r')\n",
    "plt.grid(axis ='y')\n",
    "plt.show()\n"
   ]
  },
  {
   "cell_type": "markdown",
   "id": "39198b7b",
   "metadata": {},
   "source": [
    "as we observe from earlier that fare is positively or rightly  skewed "
   ]
  },
  {
   "cell_type": "code",
   "execution_count": 21,
   "id": "9ba6ee21",
   "metadata": {},
   "outputs": [
    {
     "data": {
      "image/png": "[encoded data removed]",
      "text/plain": [
       "<Figure size 640x480 with 1 Axes>"
      ]
     },
     "metadata": {},
     "output_type": "display_data"
    },
    {
     "data": {
      "text/plain": [
       "0    608\n",
       "1    209\n",
       "2     28\n",
       "4     18\n",
       "3     16\n",
       "8      7\n",
       "5      5\n",
       "Name: SibSp, dtype: int64"
      ]
     },
     "execution_count": 21,
     "metadata": {},
     "output_type": "execute_result"
    }
   ],
   "source": [
    "sns.countplot(x='SibSp' , data = df )\n",
    "plt.xlabel('SibSp',color = 'r')\n",
    "plt.grid(axis ='y')\n",
    "plt.show()\n",
    "df.SibSp.value_counts()"
   ]
  },
  {
   "cell_type": "markdown",
   "id": "ada7a350",
   "metadata": {},
   "source": [
    "In this graph we can see  that 'Number of Siblings/Spouses Aboard' most of people come alone and very less people come with their 5 siblings/spouses  "
   ]
  },
  {
   "cell_type": "code",
   "execution_count": 22,
   "id": "19ef490c",
   "metadata": {},
   "outputs": [
    {
     "data": {
      "image/png": "[encoded data removed]",
      "text/plain": [
       "<Figure size 640x480 with 1 Axes>"
      ]
     },
     "metadata": {},
     "output_type": "display_data"
    },
    {
     "data": {
      "text/plain": [
       "0    678\n",
       "1    118\n",
       "2     80\n",
       "5      5\n",
       "3      5\n",
       "4      4\n",
       "6      1\n",
       "Name: Parch, dtype: int64"
      ]
     },
     "execution_count": 22,
     "metadata": {},
     "output_type": "execute_result"
    }
   ],
   "source": [
    "sns.countplot(x='Parch' , data = df )\n",
    "plt.xlabel('Parch',color = 'r')\n",
    "plt.grid(axis ='y')\n",
    "plt.show()\n",
    "df.Parch.value_counts()"
   ]
  },
  {
   "cell_type": "markdown",
   "id": "a686a53a",
   "metadata": {},
   "source": [
    " in this graph we can see that (Number of Parents/Children Aboard) skewed towards right i.e. maximum has 0 and very less has 5 and 6. "
   ]
  },
  {
   "cell_type": "code",
   "execution_count": 23,
   "id": "d67a8f17",
   "metadata": {},
   "outputs": [
    {
     "data": {
      "image/png": "[encoded data removed]",
      "text/plain": [
       "<Figure size 640x480 with 1 Axes>"
      ]
     },
     "metadata": {},
     "output_type": "display_data"
    },
    {
     "data": {
      "text/plain": [
       "S    646\n",
       "C    168\n",
       "Q     77\n",
       "Name: Embarked, dtype: int64"
      ]
     },
     "execution_count": 23,
     "metadata": {},
     "output_type": "execute_result"
    }
   ],
   "source": [
    "sns.countplot(x='Embarked' , data = df )\n",
    "plt.xlabel('Embarked',color = 'r')\n",
    "plt.grid(axis ='y')\n",
    "plt.show()\n",
    "df.Embarked.value_counts()"
   ]
  },
  {
   "cell_type": "markdown",
   "id": "32f1ce19",
   "metadata": {},
   "source": [
    "in this graph we can see  S , c , Q represents [ Port of Embarkation (C = Cherbourg; Q = Queenstown; S = Southampton)]  and most of people boarded from Southampton"
   ]
  },
  {
   "cell_type": "markdown",
   "id": "864cf7cd",
   "metadata": {},
   "source": [
    "-- bivariate analysis"
   ]
  },
  {
   "cell_type": "code",
   "execution_count": 24,
   "id": "3c0e51da",
   "metadata": {},
   "outputs": [
    {
     "data": {
      "image/png": "[encoded data removed]",
      "text/plain": [
       "<Figure size 640x480 with 1 Axes>"
      ]
     },
     "metadata": {},
     "output_type": "display_data"
    }
   ],
   "source": [
    "sns.barplot(x ='Pclass', y='Survived', data = df)\n",
    "plt.xlabel('Pclass',color = 'g')\n",
    "plt.ylabel('Survived', color = 'g')\n",
    "plt.grid(axis ='y')\n",
    "plt.show()"
   ]
  },
  {
   "cell_type": "markdown",
   "id": "556a9380",
   "metadata": {},
   "source": [
    "in this graph we can see that even 1st class passenger are less than too , most of survived from 1st class"
   ]
  },
  {
   "cell_type": "code",
   "execution_count": 25,
   "id": "51bb6c95",
   "metadata": {},
   "outputs": [
    {
     "data": {
      "image/png": "[encoded data removed]",
      "text/plain": [
       "<Figure size 640x480 with 1 Axes>"
      ]
     },
     "metadata": {},
     "output_type": "display_data"
    }
   ],
   "source": [
    "sns.barplot(x ='Pclass', y='Survived', data = df , hue= 'Sex')\n",
    "plt.xlabel('Pclass',color = 'g')\n",
    "plt.ylabel('Survived', color = 'g')\n",
    "plt.grid(axis ='y')\n",
    "plt.show()"
   ]
  },
  {
   "cell_type": "markdown",
   "id": "460984de",
   "metadata": {},
   "source": [
    "In this graph we can see even in the classes we can see in all classes women survived more than men "
   ]
  },
  {
   "cell_type": "code",
   "execution_count": 26,
   "id": "fd594459",
   "metadata": {},
   "outputs": [
    {
     "data": {
      "image/png": "[encoded data removed]",
      "text/plain": [
       "<Figure size 640x480 with 1 Axes>"
      ]
     },
     "metadata": {},
     "output_type": "display_data"
    }
   ],
   "source": [
    "sns.barplot(x ='Sex', y='Survived', data = df)\n",
    "plt.xlabel('Sex',color = 'g')\n",
    "plt.ylabel('Survived', color = 'g')\n",
    "plt.grid(axis ='y')\n",
    "plt.show()"
   ]
  },
  {
   "cell_type": "markdown",
   "id": "0c1ffe22",
   "metadata": {},
   "source": [
    "In this graph that over all too women survived much more than men"
   ]
  },
  {
   "cell_type": "markdown",
   "id": "200ce130",
   "metadata": {},
   "source": [
    "By seeing all three graphs we can clearly see that women surviveed more in every aspect  "
   ]
  },
  {
   "cell_type": "code",
   "execution_count": 27,
   "id": "d210c32f",
   "metadata": {},
   "outputs": [
    {
     "data": {
      "image/png": "[encoded data removed]",
      "text/plain": [
       "<Figure size 640x480 with 1 Axes>"
      ]
     },
     "metadata": {},
     "output_type": "display_data"
    }
   ],
   "source": [
    "sns.stripplot(y ='Age', x='Survived', data = df)\n",
    "plt.ylabel('Age',color = 'g')\n",
    "plt.xlabel('Survived', color = 'g')\n",
    "plt.grid(axis ='y')\n",
    "plt.show()"
   ]
  },
  {
   "cell_type": "markdown",
   "id": "eb296b2f",
   "metadata": {},
   "source": [
    "in this graph before 50 there is no such difference between survived and not survived but as we go above 50 then we can see more people died and after 65 approx most of people died except for outliers "
   ]
  },
  {
   "cell_type": "code",
   "execution_count": 28,
   "id": "f1ee4308",
   "metadata": {},
   "outputs": [
    {
     "data": {
      "image/png": "[encoded data removed]",
      "text/plain": [
       "<Figure size 640x480 with 1 Axes>"
      ]
     },
     "metadata": {},
     "output_type": "display_data"
    }
   ],
   "source": [
    "sns.stripplot(y ='Fare', x='Survived', data = df , hue = 'Sex')\n",
    "plt.ylabel('fare',color = 'g')\n",
    "plt.xlabel('Survived', color = 'g')\n",
    "plt.grid(axis ='y')\n",
    "plt.show()"
   ]
  },
  {
   "cell_type": "markdown",
   "id": "f7038926",
   "metadata": {},
   "source": [
    "in this graph we can see two things first women relatively spent more in tickets and second there is very little difference but as fare goes up people survived little more "
   ]
  },
  {
   "cell_type": "code",
   "execution_count": 29,
   "id": "f884a8f1",
   "metadata": {},
   "outputs": [
    {
     "data": {
      "image/png": "[encoded data removed]",
      "text/plain": [
       "<Figure size 640x480 with 1 Axes>"
      ]
     },
     "metadata": {},
     "output_type": "display_data"
    }
   ],
   "source": [
    "sns.stripplot(y ='Parch', x='Survived', data = df)\n",
    "plt.ylabel('Parch',color = 'g')\n",
    "plt.xlabel('Survived', color = 'g')\n",
    "plt.grid(axis ='y')\n",
    "plt.show()"
   ]
  },
  {
   "cell_type": "markdown",
   "id": "a76363fb",
   "metadata": {},
   "source": [
    "in this graph we can not see a clear difference between survived and not survived based on Parch "
   ]
  },
  {
   "cell_type": "code",
   "execution_count": 30,
   "id": "1983bc0a",
   "metadata": {},
   "outputs": [
    {
     "data": {
      "image/png": "[encoded data removed]",
      "text/plain": [
       "<Figure size 640x480 with 1 Axes>"
      ]
     },
     "metadata": {},
     "output_type": "display_data"
    }
   ],
   "source": [
    "sns.stripplot(y ='SibSp', x='Survived', data = df)\n",
    "plt.ylabel('Sibsp',color = 'g')\n",
    "plt.xlabel('Survived', color = 'g')\n",
    "plt.grid(axis ='y')\n",
    "plt.show()"
   ]
  },
  {
   "cell_type": "markdown",
   "id": "82cfbaa2",
   "metadata": {},
   "source": [
    "### -- Checking for Outliers"
   ]
  },
  {
   "cell_type": "code",
   "execution_count": 31,
   "id": "3a4f4b33",
   "metadata": {},
   "outputs": [
    {
     "data": {
      "image/png": "[encoded data removed]",
      "text/plain": [
       "<Figure size 640x480 with 1 Axes>"
      ]
     },
     "metadata": {},
     "output_type": "display_data"
    }
   ],
   "source": [
    "sns.boxplot( y = df['Fare'] , palette = 'Set2_r')\n",
    "plt.show()"
   ]
  },
  {
   "cell_type": "markdown",
   "id": "2d7d14b7",
   "metadata": {},
   "source": [
    "We can see there are outliers in the Fare"
   ]
  },
  {
   "cell_type": "code",
   "execution_count": 32,
   "id": "1b7f4cb4",
   "metadata": {},
   "outputs": [
    {
     "data": {
      "text/html": [
       "<div>\n",
       "<style scoped>\n",
       "    .dataframe tbody tr th:only-of-type {\n",
       "        vertical-align: middle;\n",
       "    }\n",
       "\n",
       "    .dataframe tbody tr th {\n",
       "        vertical-align: top;\n",
       "    }\n",
       "\n",
       "    .dataframe thead th {\n",
       "        text-align: right;\n",
       "    }\n",
       "</style>\n",
       "<table border=\"1\" class=\"dataframe\">\n",
       "  <thead>\n",
       "    <tr style=\"text-align: right;\">\n",
       "      <th></th>\n",
       "      <th>Survived</th>\n",
       "      <th>Pclass</th>\n",
       "      <th>Name</th>\n",
       "      <th>Sex</th>\n",
       "      <th>Age</th>\n",
       "      <th>SibSp</th>\n",
       "      <th>Parch</th>\n",
       "      <th>Ticket</th>\n",
       "      <th>Fare</th>\n",
       "      <th>Embarked</th>\n",
       "    </tr>\n",
       "    <tr>\n",
       "      <th>PassengerId</th>\n",
       "      <th></th>\n",
       "      <th></th>\n",
       "      <th></th>\n",
       "      <th></th>\n",
       "      <th></th>\n",
       "      <th></th>\n",
       "      <th></th>\n",
       "      <th></th>\n",
       "      <th></th>\n",
       "      <th></th>\n",
       "    </tr>\n",
       "  </thead>\n",
       "  <tbody>\n",
       "    <tr>\n",
       "      <th>259</th>\n",
       "      <td>1</td>\n",
       "      <td>1</td>\n",
       "      <td>Ward, Miss. Anna</td>\n",
       "      <td>female</td>\n",
       "      <td>35.0</td>\n",
       "      <td>0</td>\n",
       "      <td>0</td>\n",
       "      <td>PC 17755</td>\n",
       "      <td>512.3292</td>\n",
       "      <td>C</td>\n",
       "    </tr>\n",
       "    <tr>\n",
       "      <th>680</th>\n",
       "      <td>1</td>\n",
       "      <td>1</td>\n",
       "      <td>Cardeza, Mr. Thomas Drake Martinez</td>\n",
       "      <td>male</td>\n",
       "      <td>36.0</td>\n",
       "      <td>0</td>\n",
       "      <td>1</td>\n",
       "      <td>PC 17755</td>\n",
       "      <td>512.3292</td>\n",
       "      <td>C</td>\n",
       "    </tr>\n",
       "    <tr>\n",
       "      <th>738</th>\n",
       "      <td>1</td>\n",
       "      <td>1</td>\n",
       "      <td>Lesurer, Mr. Gustave J</td>\n",
       "      <td>male</td>\n",
       "      <td>35.0</td>\n",
       "      <td>0</td>\n",
       "      <td>0</td>\n",
       "      <td>PC 17755</td>\n",
       "      <td>512.3292</td>\n",
       "      <td>C</td>\n",
       "    </tr>\n",
       "  </tbody>\n",
       "</table>\n",
       "</div>"
      ],
      "text/plain": [
       "             Survived  Pclass                                Name     Sex  \\\n",
       "PassengerId                                                                 \n",
       "259                 1       1                    Ward, Miss. Anna  female   \n",
       "680                 1       1  Cardeza, Mr. Thomas Drake Martinez    male   \n",
       "738                 1       1              Lesurer, Mr. Gustave J    male   \n",
       "\n",
       "              Age  SibSp  Parch    Ticket      Fare Embarked  \n",
       "PassengerId                                                   \n",
       "259          35.0      0      0  PC 17755  512.3292        C  \n",
       "680          36.0      0      1  PC 17755  512.3292        C  \n",
       "738          35.0      0      0  PC 17755  512.3292        C  "
      ]
     },
     "execution_count": 32,
     "metadata": {},
     "output_type": "execute_result"
    }
   ],
   "source": [
    "high_fare = df.loc[df['Fare'] > 500]\n",
    "high_fare"
   ]
  },
  {
   "cell_type": "code",
   "execution_count": 33,
   "id": "66e63447",
   "metadata": {},
   "outputs": [],
   "source": [
    "index1 = [259,680,738]\n",
    "df = df.drop(index1)"
   ]
  },
  {
   "cell_type": "code",
   "execution_count": 34,
   "id": "be1b8983",
   "metadata": {},
   "outputs": [],
   "source": [
    "df.reset_index(drop=True, inplace=True)\n"
   ]
  },
  {
   "cell_type": "markdown",
   "id": "ac3d2e7a",
   "metadata": {},
   "source": [
    "here we remove the extreme outliers but not all as if we remove more outliers our data becomes retalively small and is not much significant for predicting"
   ]
  },
  {
   "cell_type": "code",
   "execution_count": 35,
   "id": "a5075cb0",
   "metadata": {},
   "outputs": [
    {
     "data": {
      "text/html": [
       "<div>\n",
       "<style scoped>\n",
       "    .dataframe tbody tr th:only-of-type {\n",
       "        vertical-align: middle;\n",
       "    }\n",
       "\n",
       "    .dataframe tbody tr th {\n",
       "        vertical-align: top;\n",
       "    }\n",
       "\n",
       "    .dataframe thead th {\n",
       "        text-align: right;\n",
       "    }\n",
       "</style>\n",
       "<table border=\"1\" class=\"dataframe\">\n",
       "  <thead>\n",
       "    <tr style=\"text-align: right;\">\n",
       "      <th></th>\n",
       "      <th>Survived</th>\n",
       "      <th>Pclass</th>\n",
       "      <th>Name</th>\n",
       "      <th>Sex</th>\n",
       "      <th>Age</th>\n",
       "      <th>SibSp</th>\n",
       "      <th>Parch</th>\n",
       "      <th>Ticket</th>\n",
       "      <th>Fare</th>\n",
       "      <th>Embarked</th>\n",
       "    </tr>\n",
       "  </thead>\n",
       "  <tbody>\n",
       "    <tr>\n",
       "      <th>0</th>\n",
       "      <td>0</td>\n",
       "      <td>3</td>\n",
       "      <td>Braund, Mr. Owen Harris</td>\n",
       "      <td>male</td>\n",
       "      <td>22.0</td>\n",
       "      <td>1</td>\n",
       "      <td>0</td>\n",
       "      <td>A/5 21171</td>\n",
       "      <td>7.2500</td>\n",
       "      <td>S</td>\n",
       "    </tr>\n",
       "    <tr>\n",
       "      <th>1</th>\n",
       "      <td>1</td>\n",
       "      <td>1</td>\n",
       "      <td>Cumings, Mrs. John Bradley (Florence Briggs Th...</td>\n",
       "      <td>female</td>\n",
       "      <td>38.0</td>\n",
       "      <td>1</td>\n",
       "      <td>0</td>\n",
       "      <td>PC 17599</td>\n",
       "      <td>71.2833</td>\n",
       "      <td>C</td>\n",
       "    </tr>\n",
       "    <tr>\n",
       "      <th>2</th>\n",
       "      <td>1</td>\n",
       "      <td>3</td>\n",
       "      <td>Heikkinen, Miss. Laina</td>\n",
       "      <td>female</td>\n",
       "      <td>26.0</td>\n",
       "      <td>0</td>\n",
       "      <td>0</td>\n",
       "      <td>STON/O2. 3101282</td>\n",
       "      <td>7.9250</td>\n",
       "      <td>S</td>\n",
       "    </tr>\n",
       "    <tr>\n",
       "      <th>3</th>\n",
       "      <td>1</td>\n",
       "      <td>1</td>\n",
       "      <td>Futrelle, Mrs. Jacques Heath (Lily May Peel)</td>\n",
       "      <td>female</td>\n",
       "      <td>35.0</td>\n",
       "      <td>1</td>\n",
       "      <td>0</td>\n",
       "      <td>113803</td>\n",
       "      <td>53.1000</td>\n",
       "      <td>S</td>\n",
       "    </tr>\n",
       "    <tr>\n",
       "      <th>4</th>\n",
       "      <td>0</td>\n",
       "      <td>3</td>\n",
       "      <td>Allen, Mr. William Henry</td>\n",
       "      <td>male</td>\n",
       "      <td>35.0</td>\n",
       "      <td>0</td>\n",
       "      <td>0</td>\n",
       "      <td>373450</td>\n",
       "      <td>8.0500</td>\n",
       "      <td>S</td>\n",
       "    </tr>\n",
       "    <tr>\n",
       "      <th>...</th>\n",
       "      <td>...</td>\n",
       "      <td>...</td>\n",
       "      <td>...</td>\n",
       "      <td>...</td>\n",
       "      <td>...</td>\n",
       "      <td>...</td>\n",
       "      <td>...</td>\n",
       "      <td>...</td>\n",
       "      <td>...</td>\n",
       "      <td>...</td>\n",
       "    </tr>\n",
       "    <tr>\n",
       "      <th>883</th>\n",
       "      <td>0</td>\n",
       "      <td>2</td>\n",
       "      <td>Montvila, Rev. Juozas</td>\n",
       "      <td>male</td>\n",
       "      <td>27.0</td>\n",
       "      <td>0</td>\n",
       "      <td>0</td>\n",
       "      <td>211536</td>\n",
       "      <td>13.0000</td>\n",
       "      <td>S</td>\n",
       "    </tr>\n",
       "    <tr>\n",
       "      <th>884</th>\n",
       "      <td>1</td>\n",
       "      <td>1</td>\n",
       "      <td>Graham, Miss. Margaret Edith</td>\n",
       "      <td>female</td>\n",
       "      <td>19.0</td>\n",
       "      <td>0</td>\n",
       "      <td>0</td>\n",
       "      <td>112053</td>\n",
       "      <td>30.0000</td>\n",
       "      <td>S</td>\n",
       "    </tr>\n",
       "    <tr>\n",
       "      <th>885</th>\n",
       "      <td>0</td>\n",
       "      <td>3</td>\n",
       "      <td>Johnston, Miss. Catherine Helen \"Carrie\"</td>\n",
       "      <td>female</td>\n",
       "      <td>28.0</td>\n",
       "      <td>1</td>\n",
       "      <td>2</td>\n",
       "      <td>W./C. 6607</td>\n",
       "      <td>23.4500</td>\n",
       "      <td>S</td>\n",
       "    </tr>\n",
       "    <tr>\n",
       "      <th>886</th>\n",
       "      <td>1</td>\n",
       "      <td>1</td>\n",
       "      <td>Behr, Mr. Karl Howell</td>\n",
       "      <td>male</td>\n",
       "      <td>26.0</td>\n",
       "      <td>0</td>\n",
       "      <td>0</td>\n",
       "      <td>111369</td>\n",
       "      <td>30.0000</td>\n",
       "      <td>C</td>\n",
       "    </tr>\n",
       "    <tr>\n",
       "      <th>887</th>\n",
       "      <td>0</td>\n",
       "      <td>3</td>\n",
       "      <td>Dooley, Mr. Patrick</td>\n",
       "      <td>male</td>\n",
       "      <td>32.0</td>\n",
       "      <td>0</td>\n",
       "      <td>0</td>\n",
       "      <td>370376</td>\n",
       "      <td>7.7500</td>\n",
       "      <td>Q</td>\n",
       "    </tr>\n",
       "  </tbody>\n",
       "</table>\n",
       "<p>888 rows × 10 columns</p>\n",
       "</div>"
      ],
      "text/plain": [
       "     Survived  Pclass                                               Name  \\\n",
       "0           0       3                            Braund, Mr. Owen Harris   \n",
       "1           1       1  Cumings, Mrs. John Bradley (Florence Briggs Th...   \n",
       "2           1       3                             Heikkinen, Miss. Laina   \n",
       "3           1       1       Futrelle, Mrs. Jacques Heath (Lily May Peel)   \n",
       "4           0       3                           Allen, Mr. William Henry   \n",
       "..        ...     ...                                                ...   \n",
       "883         0       2                              Montvila, Rev. Juozas   \n",
       "884         1       1                       Graham, Miss. Margaret Edith   \n",
       "885         0       3           Johnston, Miss. Catherine Helen \"Carrie\"   \n",
       "886         1       1                              Behr, Mr. Karl Howell   \n",
       "887         0       3                                Dooley, Mr. Patrick   \n",
       "\n",
       "        Sex   Age  SibSp  Parch            Ticket     Fare Embarked  \n",
       "0      male  22.0      1      0         A/5 21171   7.2500        S  \n",
       "1    female  38.0      1      0          PC 17599  71.2833        C  \n",
       "2    female  26.0      0      0  STON/O2. 3101282   7.9250        S  \n",
       "3    female  35.0      1      0            113803  53.1000        S  \n",
       "4      male  35.0      0      0            373450   8.0500        S  \n",
       "..      ...   ...    ...    ...               ...      ...      ...  \n",
       "883    male  27.0      0      0            211536  13.0000        S  \n",
       "884  female  19.0      0      0            112053  30.0000        S  \n",
       "885  female  28.0      1      2        W./C. 6607  23.4500        S  \n",
       "886    male  26.0      0      0            111369  30.0000        C  \n",
       "887    male  32.0      0      0            370376   7.7500        Q  \n",
       "\n",
       "[888 rows x 10 columns]"
      ]
     },
     "execution_count": 35,
     "metadata": {},
     "output_type": "execute_result"
    }
   ],
   "source": [
    "df"
   ]
  },
  {
   "cell_type": "markdown",
   "id": "a0e593d9",
   "metadata": {},
   "source": [
    " ### -- Checking for Skewness"
   ]
  },
  {
   "cell_type": "code",
   "execution_count": 36,
   "id": "709a7475",
   "metadata": {},
   "outputs": [
    {
     "data": {
      "text/plain": [
       "Survived    0.487605\n",
       "Pclass     -0.640238\n",
       "Age         0.514256\n",
       "SibSp       3.688909\n",
       "Parch       2.748427\n",
       "Fare        3.187877\n",
       "dtype: float64"
      ]
     },
     "execution_count": 36,
     "metadata": {},
     "output_type": "execute_result"
    }
   ],
   "source": [
    "df.skew()"
   ]
  },
  {
   "cell_type": "code",
   "execution_count": 37,
   "id": "c83c142e",
   "metadata": {},
   "outputs": [
    {
     "data": {
      "image/png": "[encoded data removed]",
      "text/plain": [
       "<Figure size 640x480 with 1 Axes>"
      ]
     },
     "metadata": {},
     "output_type": "display_data"
    }
   ],
   "source": [
    "sns.distplot(df['Fare'])\n",
    "plt.show()"
   ]
  },
  {
   "cell_type": "markdown",
   "id": "d147c0dd",
   "metadata": {},
   "source": [
    "here we can see that Fare is rughtly skewed and SibSp and Parch  are categorical data so we will use some methods to remove the skewness in Fare"
   ]
  },
  {
   "cell_type": "code",
   "execution_count": 38,
   "id": "a9611b15",
   "metadata": {},
   "outputs": [],
   "source": [
    "df['Fare']=np.cbrt(df['Fare'])"
   ]
  },
  {
   "cell_type": "code",
   "execution_count": 39,
   "id": "976273ec",
   "metadata": {},
   "outputs": [
    {
     "data": {
      "text/plain": [
       "Survived    0.487605\n",
       "Pclass     -0.640238\n",
       "Age         0.514256\n",
       "SibSp       3.688909\n",
       "Parch       2.748427\n",
       "Fare        0.999824\n",
       "dtype: float64"
      ]
     },
     "execution_count": 39,
     "metadata": {},
     "output_type": "execute_result"
    }
   ],
   "source": [
    "df.skew()"
   ]
  },
  {
   "cell_type": "markdown",
   "id": "e3667f1e",
   "metadata": {},
   "source": [
    "Here after using cuberoot we still can see moderate skewness in the fare but we will continue with that much skeweness"
   ]
  },
  {
   "cell_type": "markdown",
   "id": "da3e1a4a",
   "metadata": {},
   "source": [
    "##### Encoding features"
   ]
  },
  {
   "cell_type": "code",
   "execution_count": 40,
   "id": "b180a7f4",
   "metadata": {},
   "outputs": [],
   "source": [
    "df['Sex'] = df['Sex'].replace({'female': 0, 'male': 1})"
   ]
  },
  {
   "cell_type": "code",
   "execution_count": 41,
   "id": "a9b76adf",
   "metadata": {},
   "outputs": [],
   "source": [
    "df['Embarked'] = df['Embarked'].replace({'C': 0, 'S': 1,'Q':2})"
   ]
  },
  {
   "cell_type": "markdown",
   "id": "75fad575",
   "metadata": {},
   "source": [
    "### checking for correlation "
   ]
  },
  {
   "cell_type": "code",
   "execution_count": 42,
   "id": "5c137de0",
   "metadata": {
    "scrolled": true
   },
   "outputs": [
    {
     "data": {
      "image/png": "[encoded data removed]",
      "text/plain": [
       "<Figure size 1500x1500 with 2 Axes>"
      ]
     },
     "metadata": {},
     "output_type": "display_data"
    }
   ],
   "source": [
    "correlation = df.corr()\n",
    "plt.figure(figsize=(15,15))\n",
    "sns.heatmap(correlation , annot = True)\n",
    "plt.show()"
   ]
  },
  {
   "cell_type": "markdown",
   "id": "1bb866d7",
   "metadata": {},
   "source": [
    "here we can see that Parch and Fare have positive correaltion with the target variable and Pclass, Sex ,Age , SibSp , Embarked have negative correaltion with target variable \n",
    "\n",
    "In this heat map we can see that Parch , Age , SibSp have very less correaltion with the target variable (i.e. <0.1) but since we have less features and due to senstivity of data we will choose  not to  remove any features.\n",
    "\n",
    "If we see correlation then we can see that there is not much correlation among features so we can say that there may not be problem of multicollinearity"
   ]
  },
  {
   "cell_type": "markdown",
   "id": "d49fc93c",
   "metadata": {},
   "source": [
    "### Seperating features and target variable"
   ]
  },
  {
   "cell_type": "code",
   "execution_count": 43,
   "id": "433e71f1",
   "metadata": {},
   "outputs": [],
   "source": [
    "X = df.drop(['Survived','Name','Ticket'], axis=1)\n",
    "Y = df['Survived']\n"
   ]
  },
  {
   "cell_type": "code",
   "execution_count": 44,
   "id": "b27017ef",
   "metadata": {},
   "outputs": [
    {
     "data": {
      "text/html": [
       "<div>\n",
       "<style scoped>\n",
       "    .dataframe tbody tr th:only-of-type {\n",
       "        vertical-align: middle;\n",
       "    }\n",
       "\n",
       "    .dataframe tbody tr th {\n",
       "        vertical-align: top;\n",
       "    }\n",
       "\n",
       "    .dataframe thead th {\n",
       "        text-align: right;\n",
       "    }\n",
       "</style>\n",
       "<table border=\"1\" class=\"dataframe\">\n",
       "  <thead>\n",
       "    <tr style=\"text-align: right;\">\n",
       "      <th></th>\n",
       "      <th>Pclass</th>\n",
       "      <th>Sex</th>\n",
       "      <th>Age</th>\n",
       "      <th>SibSp</th>\n",
       "      <th>Parch</th>\n",
       "      <th>Fare</th>\n",
       "      <th>Embarked</th>\n",
       "    </tr>\n",
       "  </thead>\n",
       "  <tbody>\n",
       "    <tr>\n",
       "      <th>0</th>\n",
       "      <td>3</td>\n",
       "      <td>1</td>\n",
       "      <td>22.0</td>\n",
       "      <td>1</td>\n",
       "      <td>0</td>\n",
       "      <td>1.935438</td>\n",
       "      <td>1</td>\n",
       "    </tr>\n",
       "    <tr>\n",
       "      <th>1</th>\n",
       "      <td>1</td>\n",
       "      <td>0</td>\n",
       "      <td>38.0</td>\n",
       "      <td>1</td>\n",
       "      <td>0</td>\n",
       "      <td>4.146318</td>\n",
       "      <td>0</td>\n",
       "    </tr>\n",
       "    <tr>\n",
       "      <th>2</th>\n",
       "      <td>3</td>\n",
       "      <td>0</td>\n",
       "      <td>26.0</td>\n",
       "      <td>0</td>\n",
       "      <td>0</td>\n",
       "      <td>1.993730</td>\n",
       "      <td>1</td>\n",
       "    </tr>\n",
       "    <tr>\n",
       "      <th>3</th>\n",
       "      <td>1</td>\n",
       "      <td>0</td>\n",
       "      <td>35.0</td>\n",
       "      <td>1</td>\n",
       "      <td>0</td>\n",
       "      <td>3.758647</td>\n",
       "      <td>1</td>\n",
       "    </tr>\n",
       "    <tr>\n",
       "      <th>4</th>\n",
       "      <td>3</td>\n",
       "      <td>1</td>\n",
       "      <td>35.0</td>\n",
       "      <td>0</td>\n",
       "      <td>0</td>\n",
       "      <td>2.004158</td>\n",
       "      <td>1</td>\n",
       "    </tr>\n",
       "    <tr>\n",
       "      <th>...</th>\n",
       "      <td>...</td>\n",
       "      <td>...</td>\n",
       "      <td>...</td>\n",
       "      <td>...</td>\n",
       "      <td>...</td>\n",
       "      <td>...</td>\n",
       "      <td>...</td>\n",
       "    </tr>\n",
       "    <tr>\n",
       "      <th>883</th>\n",
       "      <td>2</td>\n",
       "      <td>1</td>\n",
       "      <td>27.0</td>\n",
       "      <td>0</td>\n",
       "      <td>0</td>\n",
       "      <td>2.351335</td>\n",
       "      <td>1</td>\n",
       "    </tr>\n",
       "    <tr>\n",
       "      <th>884</th>\n",
       "      <td>1</td>\n",
       "      <td>0</td>\n",
       "      <td>19.0</td>\n",
       "      <td>0</td>\n",
       "      <td>0</td>\n",
       "      <td>3.107233</td>\n",
       "      <td>1</td>\n",
       "    </tr>\n",
       "    <tr>\n",
       "      <th>885</th>\n",
       "      <td>3</td>\n",
       "      <td>0</td>\n",
       "      <td>28.0</td>\n",
       "      <td>1</td>\n",
       "      <td>2</td>\n",
       "      <td>2.862294</td>\n",
       "      <td>1</td>\n",
       "    </tr>\n",
       "    <tr>\n",
       "      <th>886</th>\n",
       "      <td>1</td>\n",
       "      <td>1</td>\n",
       "      <td>26.0</td>\n",
       "      <td>0</td>\n",
       "      <td>0</td>\n",
       "      <td>3.107233</td>\n",
       "      <td>0</td>\n",
       "    </tr>\n",
       "    <tr>\n",
       "      <th>887</th>\n",
       "      <td>3</td>\n",
       "      <td>1</td>\n",
       "      <td>32.0</td>\n",
       "      <td>0</td>\n",
       "      <td>0</td>\n",
       "      <td>1.978946</td>\n",
       "      <td>2</td>\n",
       "    </tr>\n",
       "  </tbody>\n",
       "</table>\n",
       "<p>888 rows × 7 columns</p>\n",
       "</div>"
      ],
      "text/plain": [
       "     Pclass  Sex   Age  SibSp  Parch      Fare  Embarked\n",
       "0         3    1  22.0      1      0  1.935438         1\n",
       "1         1    0  38.0      1      0  4.146318         0\n",
       "2         3    0  26.0      0      0  1.993730         1\n",
       "3         1    0  35.0      1      0  3.758647         1\n",
       "4         3    1  35.0      0      0  2.004158         1\n",
       "..      ...  ...   ...    ...    ...       ...       ...\n",
       "883       2    1  27.0      0      0  2.351335         1\n",
       "884       1    0  19.0      0      0  3.107233         1\n",
       "885       3    0  28.0      1      2  2.862294         1\n",
       "886       1    1  26.0      0      0  3.107233         0\n",
       "887       3    1  32.0      0      0  1.978946         2\n",
       "\n",
       "[888 rows x 7 columns]"
      ]
     },
     "execution_count": 44,
     "metadata": {},
     "output_type": "execute_result"
    }
   ],
   "source": [
    "X"
   ]
  },
  {
   "cell_type": "markdown",
   "id": "1a8076aa",
   "metadata": {},
   "source": [
    "### Scaling using Standard Scalar"
   ]
  },
  {
   "cell_type": "code",
   "execution_count": 45,
   "id": "3bd2f75c",
   "metadata": {},
   "outputs": [
    {
     "data": {
      "text/html": [
       "<div>\n",
       "<style scoped>\n",
       "    .dataframe tbody tr th:only-of-type {\n",
       "        vertical-align: middle;\n",
       "    }\n",
       "\n",
       "    .dataframe tbody tr th {\n",
       "        vertical-align: top;\n",
       "    }\n",
       "\n",
       "    .dataframe thead th {\n",
       "        text-align: right;\n",
       "    }\n",
       "</style>\n",
       "<table border=\"1\" class=\"dataframe\">\n",
       "  <thead>\n",
       "    <tr style=\"text-align: right;\">\n",
       "      <th></th>\n",
       "      <th>Pclass</th>\n",
       "      <th>Sex</th>\n",
       "      <th>Age</th>\n",
       "      <th>SibSp</th>\n",
       "      <th>Parch</th>\n",
       "      <th>Fare</th>\n",
       "      <th>Embarked</th>\n",
       "    </tr>\n",
       "  </thead>\n",
       "  <tbody>\n",
       "    <tr>\n",
       "      <th>0</th>\n",
       "      <td>0.824123</td>\n",
       "      <td>0.737799</td>\n",
       "      <td>-0.563437</td>\n",
       "      <td>0.430627</td>\n",
       "      <td>-0.473353</td>\n",
       "      <td>-0.789413</td>\n",
       "      <td>0.193347</td>\n",
       "    </tr>\n",
       "    <tr>\n",
       "      <th>1</th>\n",
       "      <td>-1.575290</td>\n",
       "      <td>-1.355382</td>\n",
       "      <td>0.664528</td>\n",
       "      <td>0.430627</td>\n",
       "      <td>-0.473353</td>\n",
       "      <td>1.358096</td>\n",
       "      <td>-1.757703</td>\n",
       "    </tr>\n",
       "    <tr>\n",
       "      <th>2</th>\n",
       "      <td>0.824123</td>\n",
       "      <td>-1.355382</td>\n",
       "      <td>-0.256446</td>\n",
       "      <td>-0.475527</td>\n",
       "      <td>-0.473353</td>\n",
       "      <td>-0.732792</td>\n",
       "      <td>0.193347</td>\n",
       "    </tr>\n",
       "    <tr>\n",
       "      <th>3</th>\n",
       "      <td>-1.575290</td>\n",
       "      <td>-1.355382</td>\n",
       "      <td>0.434285</td>\n",
       "      <td>0.430627</td>\n",
       "      <td>-0.473353</td>\n",
       "      <td>0.981536</td>\n",
       "      <td>0.193347</td>\n",
       "    </tr>\n",
       "    <tr>\n",
       "      <th>4</th>\n",
       "      <td>0.824123</td>\n",
       "      <td>0.737799</td>\n",
       "      <td>0.434285</td>\n",
       "      <td>-0.475527</td>\n",
       "      <td>-0.473353</td>\n",
       "      <td>-0.722663</td>\n",
       "      <td>0.193347</td>\n",
       "    </tr>\n",
       "    <tr>\n",
       "      <th>...</th>\n",
       "      <td>...</td>\n",
       "      <td>...</td>\n",
       "      <td>...</td>\n",
       "      <td>...</td>\n",
       "      <td>...</td>\n",
       "      <td>...</td>\n",
       "      <td>...</td>\n",
       "    </tr>\n",
       "    <tr>\n",
       "      <th>883</th>\n",
       "      <td>-0.375584</td>\n",
       "      <td>0.737799</td>\n",
       "      <td>-0.179698</td>\n",
       "      <td>-0.475527</td>\n",
       "      <td>-0.473353</td>\n",
       "      <td>-0.385438</td>\n",
       "      <td>0.193347</td>\n",
       "    </tr>\n",
       "    <tr>\n",
       "      <th>884</th>\n",
       "      <td>-1.575290</td>\n",
       "      <td>-1.355382</td>\n",
       "      <td>-0.793681</td>\n",
       "      <td>-0.475527</td>\n",
       "      <td>-0.473353</td>\n",
       "      <td>0.348794</td>\n",
       "      <td>0.193347</td>\n",
       "    </tr>\n",
       "    <tr>\n",
       "      <th>885</th>\n",
       "      <td>0.824123</td>\n",
       "      <td>-1.355382</td>\n",
       "      <td>-0.102950</td>\n",
       "      <td>0.430627</td>\n",
       "      <td>2.006516</td>\n",
       "      <td>0.110876</td>\n",
       "      <td>0.193347</td>\n",
       "    </tr>\n",
       "    <tr>\n",
       "      <th>886</th>\n",
       "      <td>-1.575290</td>\n",
       "      <td>0.737799</td>\n",
       "      <td>-0.256446</td>\n",
       "      <td>-0.475527</td>\n",
       "      <td>-0.473353</td>\n",
       "      <td>0.348794</td>\n",
       "      <td>-1.757703</td>\n",
       "    </tr>\n",
       "    <tr>\n",
       "      <th>887</th>\n",
       "      <td>0.824123</td>\n",
       "      <td>0.737799</td>\n",
       "      <td>0.204041</td>\n",
       "      <td>-0.475527</td>\n",
       "      <td>-0.473353</td>\n",
       "      <td>-0.747153</td>\n",
       "      <td>2.144397</td>\n",
       "    </tr>\n",
       "  </tbody>\n",
       "</table>\n",
       "<p>888 rows × 7 columns</p>\n",
       "</div>"
      ],
      "text/plain": [
       "       Pclass       Sex       Age     SibSp     Parch      Fare  Embarked\n",
       "0    0.824123  0.737799 -0.563437  0.430627 -0.473353 -0.789413  0.193347\n",
       "1   -1.575290 -1.355382  0.664528  0.430627 -0.473353  1.358096 -1.757703\n",
       "2    0.824123 -1.355382 -0.256446 -0.475527 -0.473353 -0.732792  0.193347\n",
       "3   -1.575290 -1.355382  0.434285  0.430627 -0.473353  0.981536  0.193347\n",
       "4    0.824123  0.737799  0.434285 -0.475527 -0.473353 -0.722663  0.193347\n",
       "..        ...       ...       ...       ...       ...       ...       ...\n",
       "883 -0.375584  0.737799 -0.179698 -0.475527 -0.473353 -0.385438  0.193347\n",
       "884 -1.575290 -1.355382 -0.793681 -0.475527 -0.473353  0.348794  0.193347\n",
       "885  0.824123 -1.355382 -0.102950  0.430627  2.006516  0.110876  0.193347\n",
       "886 -1.575290  0.737799 -0.256446 -0.475527 -0.473353  0.348794 -1.757703\n",
       "887  0.824123  0.737799  0.204041 -0.475527 -0.473353 -0.747153  2.144397\n",
       "\n",
       "[888 rows x 7 columns]"
      ]
     },
     "execution_count": 45,
     "metadata": {},
     "output_type": "execute_result"
    }
   ],
   "source": [
    "from sklearn.preprocessing import StandardScaler\n",
    "SS = StandardScaler()\n",
    "X = pd.DataFrame(SS.fit_transform(X), columns = X.columns)\n",
    "X"
   ]
  },
  {
   "cell_type": "markdown",
   "id": "38ecbe19",
   "metadata": {},
   "source": [
    "## Oversampling \n",
    " for making the data balanced"
   ]
  },
  {
   "cell_type": "code",
   "execution_count": 46,
   "id": "fef20dfb",
   "metadata": {},
   "outputs": [],
   "source": [
    "from imblearn.over_sampling import SMOTE\n",
    "SM = SMOTE()\n",
    "x1,y1 = SM.fit_resample(X,Y)"
   ]
  },
  {
   "cell_type": "code",
   "execution_count": 47,
   "id": "7bbe97c9",
   "metadata": {},
   "outputs": [
    {
     "data": {
      "text/plain": [
       "0    549\n",
       "1    549\n",
       "Name: Survived, dtype: int64"
      ]
     },
     "execution_count": 47,
     "metadata": {},
     "output_type": "execute_result"
    }
   ],
   "source": [
    "y1.value_counts()"
   ]
  },
  {
   "cell_type": "markdown",
   "id": "db06353e",
   "metadata": {},
   "source": [
    "## Creating train test Split"
   ]
  },
  {
   "cell_type": "code",
   "execution_count": 48,
   "id": "0471022e",
   "metadata": {},
   "outputs": [],
   "source": [
    "from sklearn.model_selection import train_test_split\n",
    "for i in range(1,100):\n",
    "    X_train,X_test,Y_train,Y_test =train_test_split (x1,y1, test_size = 0.25 , random_state = i)"
   ]
  },
  {
   "cell_type": "markdown",
   "id": "a227b8c5",
   "metadata": {},
   "source": [
    "#### importing necessary libraries for models"
   ]
  },
  {
   "cell_type": "code",
   "execution_count": 49,
   "id": "1a63c859",
   "metadata": {},
   "outputs": [],
   "source": [
    "from sklearn.ensemble import AdaBoostClassifier\n",
    "from sklearn.ensemble import GradientBoostingClassifier\n",
    "from sklearn.ensemble import RandomForestClassifier\n",
    "from sklearn.linear_model import LogisticRegression\n",
    "from sklearn.neighbors import KNeighborsClassifier\n",
    "from sklearn.metrics import accuracy_score\n",
    "from sklearn.metrics import classification_report \n",
    "from sklearn.svm import SVC\n",
    "from sklearn.metrics import roc_curve\n",
    "from sklearn.metrics import roc_auc_score, roc_curve\n",
    "from sklearn.model_selection import GridSearchCV"
   ]
  },
  {
   "cell_type": "markdown",
   "id": "f3fa7242",
   "metadata": {},
   "source": [
    "## Models"
   ]
  },
  {
   "cell_type": "markdown",
   "id": "5cd43cfe",
   "metadata": {},
   "source": [
    "#### AdaBoostClassifier"
   ]
  },
  {
   "cell_type": "code",
   "execution_count": 50,
   "id": "c04aeb41",
   "metadata": {},
   "outputs": [
    {
     "name": "stdout",
     "output_type": "stream",
     "text": [
      "accuracy score of trained data---> 0.8420413122721749\n"
     ]
    }
   ],
   "source": [
    "abc = AdaBoostClassifier()\n",
    "abc.fit(X_train, Y_train)\n",
    "y_pred = abc.predict(X_train)\n",
    "accuracy = accuracy_score( Y_train,y_pred ) # checking train data \n",
    "print(\"accuracy score of trained data--->\",accuracy)"
   ]
  },
  {
   "cell_type": "code",
   "execution_count": 51,
   "id": "5e4ce043",
   "metadata": {},
   "outputs": [
    {
     "name": "stdout",
     "output_type": "stream",
     "text": [
      "accuracy score of test data--> 0.7709090909090909\n"
     ]
    }
   ],
   "source": [
    "y_pred_testABC  = abc.predict(X_test)\n",
    "accuracy = accuracy_score( Y_test,y_pred_testABC ) # checking test data \n",
    "print('accuracy score of test data-->',accuracy)"
   ]
  },
  {
   "cell_type": "code",
   "execution_count": 52,
   "id": "712ef8a4",
   "metadata": {},
   "outputs": [
    {
     "name": "stdout",
     "output_type": "stream",
     "text": [
      ".                      classification report                        .\n",
      "               precision    recall  f1-score   support\n",
      "\n",
      "           0       0.80      0.75      0.78       146\n",
      "           1       0.74      0.79      0.76       129\n",
      "\n",
      "    accuracy                           0.77       275\n",
      "   macro avg       0.77      0.77      0.77       275\n",
      "weighted avg       0.77      0.77      0.77       275\n",
      "\n"
     ]
    }
   ],
   "source": [
    "print(  '.                      classification report                        .\\n',\n",
    "      classification_report(Y_test,y_pred_testABC))\n"
   ]
  },
  {
   "cell_type": "code",
   "execution_count": 53,
   "id": "20b490a2",
   "metadata": {},
   "outputs": [
    {
     "data": {
      "image/png": "[encoded data removed]",
      "text/plain": [
       "<Figure size 640x480 with 1 Axes>"
      ]
     },
     "metadata": {},
     "output_type": "display_data"
    },
    {
     "name": "stdout",
     "output_type": "stream",
     "text": [
      " Here we can area under the curve is --> 0.7720611659764256\n"
     ]
    }
   ],
   "source": [
    "from sklearn import metrics\n",
    "fpr, tpr, thresholds = metrics.roc_curve(Y_test, y_pred_testABC)\n",
    "roc_auc = metrics.auc(fpr,tpr)\n",
    "display = metrics.RocCurveDisplay(fpr =fpr,tpr =tpr , roc_auc = roc_auc , estimator_name =\"AdaBoost Classifierr\") \n",
    "display.plot(color='red', linestyle='--')\n",
    "plt.title('ROC Curve of AdaBoost Classifier Model', color='brown')\n",
    "plt.show()\n",
    "print(' Here we can area under the curve is -->',roc_auc)"
   ]
  },
  {
   "cell_type": "markdown",
   "id": "b6c81de6",
   "metadata": {},
   "source": [
    "#### RandomForest Classifier "
   ]
  },
  {
   "cell_type": "code",
   "execution_count": 54,
   "id": "146bd0de",
   "metadata": {},
   "outputs": [
    {
     "name": "stdout",
     "output_type": "stream",
     "text": [
      "accuracy score of trained data---> 0.9842041312272175\n"
     ]
    }
   ],
   "source": [
    "rfc = RandomForestClassifier()\n",
    "rfc.fit(X_train, Y_train)\n",
    "y_pred = rfc.predict(X_train)\n",
    "accuracy = accuracy_score( Y_train,y_pred ) # checking train data \n",
    "print(\"accuracy score of trained data--->\",accuracy)"
   ]
  },
  {
   "cell_type": "code",
   "execution_count": 55,
   "id": "df53b923",
   "metadata": {},
   "outputs": [
    {
     "name": "stdout",
     "output_type": "stream",
     "text": [
      "accuracy score oftest data--> 0.8181818181818182\n"
     ]
    }
   ],
   "source": [
    "y_pred_testRFC  = rfc.predict(X_test)\n",
    "accuracy = accuracy_score( Y_test,y_pred_testRFC ) # checking test data \n",
    "print('accuracy score oftest data-->',accuracy)"
   ]
  },
  {
   "cell_type": "code",
   "execution_count": 56,
   "id": "160e89c7",
   "metadata": {},
   "outputs": [
    {
     "name": "stdout",
     "output_type": "stream",
     "text": [
      ".                      classification report                        .\n",
      "               precision    recall  f1-score   support\n",
      "\n",
      "           0       0.82      0.84      0.83       146\n",
      "           1       0.81      0.80      0.80       129\n",
      "\n",
      "    accuracy                           0.82       275\n",
      "   macro avg       0.82      0.82      0.82       275\n",
      "weighted avg       0.82      0.82      0.82       275\n",
      "\n"
     ]
    }
   ],
   "source": [
    "print(  '.                      classification report                        .\\n',\n",
    "      classification_report(Y_test,y_pred_testRFC))\n"
   ]
  },
  {
   "cell_type": "code",
   "execution_count": 57,
   "id": "4c24bb7e",
   "metadata": {},
   "outputs": [
    {
     "data": {
      "image/png": "[encoded data removed]",
      "text/plain": [
       "<Figure size 640x480 with 1 Axes>"
      ]
     },
     "metadata": {},
     "output_type": "display_data"
    },
    {
     "name": "stdout",
     "output_type": "stream",
     "text": [
      " Here we can area under the curve is --> 0.8170330253796325\n"
     ]
    }
   ],
   "source": [
    "fpr, tpr, thresholds = metrics.roc_curve(Y_test, y_pred_testRFC)\n",
    "roc_auc = metrics.auc(fpr,tpr)\n",
    "display = metrics.RocCurveDisplay(fpr =fpr,tpr =tpr , roc_auc = roc_auc , estimator_name =\"RandomForest Classifier\") \n",
    "display.plot(color='red', linestyle='--')\n",
    "plt.title('ROC Curve of RandomForest Classifier Model', color='brown')\n",
    "plt.show()\n",
    "print(' Here we can area under the curve is -->',roc_auc)"
   ]
  },
  {
   "cell_type": "markdown",
   "id": "81e2d5aa",
   "metadata": {},
   "source": [
    "#### Logistic Regression"
   ]
  },
  {
   "cell_type": "code",
   "execution_count": 58,
   "id": "305c6398",
   "metadata": {},
   "outputs": [
    {
     "name": "stdout",
     "output_type": "stream",
     "text": [
      "accuracy score of trained data---> 0.8068043742405833\n"
     ]
    }
   ],
   "source": [
    "log_R =LogisticRegression()\n",
    "log_R.fit(X_train, Y_train)\n",
    "y_pred = log_R.predict(X_train)\n",
    "accuracy = accuracy_score( Y_train,y_pred ) # checking train data \n",
    "print(\"accuracy score of trained data--->\",accuracy)"
   ]
  },
  {
   "cell_type": "code",
   "execution_count": 59,
   "id": "781937b7",
   "metadata": {},
   "outputs": [
    {
     "name": "stdout",
     "output_type": "stream",
     "text": [
      "accuracy score oftest data--> 0.7527272727272727\n"
     ]
    }
   ],
   "source": [
    "y_pred_testLR  = log_R.predict(X_test)\n",
    "accuracy = accuracy_score( Y_test,y_pred_testLR ) # checking test data \n",
    "print('accuracy score oftest data-->',accuracy)"
   ]
  },
  {
   "cell_type": "code",
   "execution_count": 60,
   "id": "d4728ba7",
   "metadata": {},
   "outputs": [
    {
     "name": "stdout",
     "output_type": "stream",
     "text": [
      ".                      classification report                        .\n",
      "               precision    recall  f1-score   support\n",
      "\n",
      "           0       0.76      0.77      0.77       146\n",
      "           1       0.74      0.73      0.73       129\n",
      "\n",
      "    accuracy                           0.75       275\n",
      "   macro avg       0.75      0.75      0.75       275\n",
      "weighted avg       0.75      0.75      0.75       275\n",
      "\n"
     ]
    }
   ],
   "source": [
    "print(  '.                      classification report                        .\\n',\n",
    "      classification_report(Y_test,y_pred_testLR))\n"
   ]
  },
  {
   "cell_type": "code",
   "execution_count": 61,
   "id": "9e73bd80",
   "metadata": {},
   "outputs": [
    {
     "data": {
      "image/png": "[encoded data removed]",
      "text/plain": [
       "<Figure size 640x480 with 1 Axes>"
      ]
     },
     "metadata": {},
     "output_type": "display_data"
    },
    {
     "name": "stdout",
     "output_type": "stream",
     "text": [
      " Here we can area under the curve is --> 0.7513273866411808\n"
     ]
    }
   ],
   "source": [
    "fpr, tpr, thresholds = metrics.roc_curve(Y_test, y_pred_testLR)\n",
    "roc_auc = metrics.auc(fpr,tpr)\n",
    "display = metrics.RocCurveDisplay(fpr =fpr,tpr =tpr , roc_auc = roc_auc , estimator_name =\"Logistic Regression\") \n",
    "display.plot(color='red', linestyle='--')\n",
    "plt.title('ROC Curve of Logistic Regression Model', color='brown')\n",
    "plt.show()\n",
    "print(' Here we can area under the curve is -->',roc_auc)"
   ]
  },
  {
   "cell_type": "markdown",
   "id": "a1b0d7fc",
   "metadata": {},
   "source": [
    "#### Support Vector Model"
   ]
  },
  {
   "cell_type": "code",
   "execution_count": 62,
   "id": "d74887cf",
   "metadata": {},
   "outputs": [
    {
     "name": "stdout",
     "output_type": "stream",
     "text": [
      "accuracy score of trained data---> 0.8444714459295262\n"
     ]
    }
   ],
   "source": [
    "SVM = SVC()\n",
    "SVM.fit(X_train, Y_train)\n",
    "y_pred = SVM.predict(X_train)\n",
    "accuracy = accuracy_score( Y_train,y_pred ) # checking train data \n",
    "print(\"accuracy score of trained data--->\",accuracy)"
   ]
  },
  {
   "cell_type": "code",
   "execution_count": 63,
   "id": "06c27e74",
   "metadata": {},
   "outputs": [
    {
     "name": "stdout",
     "output_type": "stream",
     "text": [
      "accuracy score oftest data--> 0.7818181818181819\n"
     ]
    }
   ],
   "source": [
    "y_pred_testSVM  = SVM.predict(X_test)\n",
    "accuracy = accuracy_score( Y_test,y_pred_testSVM ) # checking test data \n",
    "print('accuracy score oftest data-->',accuracy)"
   ]
  },
  {
   "cell_type": "code",
   "execution_count": 64,
   "id": "2936edab",
   "metadata": {},
   "outputs": [
    {
     "name": "stdout",
     "output_type": "stream",
     "text": [
      ".                      classification report                        .\n",
      "               precision    recall  f1-score   support\n",
      "\n",
      "           0       0.81      0.77      0.79       146\n",
      "           1       0.75      0.80      0.77       129\n",
      "\n",
      "    accuracy                           0.78       275\n",
      "   macro avg       0.78      0.78      0.78       275\n",
      "weighted avg       0.78      0.78      0.78       275\n",
      "\n"
     ]
    }
   ],
   "source": [
    "print(  '.                      classification report                        .\\n',\n",
    "      classification_report(Y_test,y_pred_testSVM))\n"
   ]
  },
  {
   "cell_type": "code",
   "execution_count": 65,
   "id": "ad5a5302",
   "metadata": {},
   "outputs": [
    {
     "data": {
      "image/png": "[encoded data removed]",
      "text/plain": [
       "<Figure size 640x480 with 1 Axes>"
      ]
     },
     "metadata": {},
     "output_type": "display_data"
    },
    {
     "name": "stdout",
     "output_type": "stream",
     "text": [
      " Here we can area under the curve is --> 0.7827864500371668\n"
     ]
    }
   ],
   "source": [
    "fpr, tpr, thresholds = metrics.roc_curve(Y_test, y_pred_testSVM)\n",
    "roc_auc = metrics.auc(fpr,tpr)\n",
    "display = metrics.RocCurveDisplay(fpr =fpr,tpr =tpr , roc_auc = roc_auc , estimator_name =\"SupportVector classification (SVC)\") \n",
    "display.plot(color='red', linestyle='--')\n",
    "plt.title('ROC Curve of SVC Model', color='brown')\n",
    "plt.show()\n",
    "print(' Here we can area under the curve is -->',roc_auc)"
   ]
  },
  {
   "cell_type": "markdown",
   "id": "1ffa0fab",
   "metadata": {},
   "source": [
    "#### GradientBoosting Classifier"
   ]
  },
  {
   "cell_type": "code",
   "execution_count": 66,
   "id": "8db929b9",
   "metadata": {},
   "outputs": [
    {
     "name": "stdout",
     "output_type": "stream",
     "text": [
      "accuracy score of trained data---> 0.9027946537059538\n"
     ]
    }
   ],
   "source": [
    "GBC = GradientBoostingClassifier()\n",
    "GBC.fit(X_train, Y_train)\n",
    "y_pred = GBC.predict(X_train)\n",
    "accuracy = accuracy_score( Y_train,y_pred ) # checking train data \n",
    "print(\"accuracy score of trained data--->\",accuracy)"
   ]
  },
  {
   "cell_type": "code",
   "execution_count": 67,
   "id": "e30af08f",
   "metadata": {},
   "outputs": [
    {
     "name": "stdout",
     "output_type": "stream",
     "text": [
      "accuracy score oftest data--> 0.8072727272727273\n"
     ]
    }
   ],
   "source": [
    "y_pred_testGBC  = GBC.predict(X_test)\n",
    "accuracy = accuracy_score( Y_test,y_pred_testGBC ) # checking test data \n",
    "print('accuracy score oftest data-->',accuracy)"
   ]
  },
  {
   "cell_type": "code",
   "execution_count": 68,
   "id": "55dd8075",
   "metadata": {},
   "outputs": [
    {
     "name": "stdout",
     "output_type": "stream",
     "text": [
      ".                      classification report                        .\n",
      "               precision    recall  f1-score   support\n",
      "\n",
      "           0       0.81      0.84      0.82       146\n",
      "           1       0.81      0.78      0.79       129\n",
      "\n",
      "    accuracy                           0.81       275\n",
      "   macro avg       0.81      0.81      0.81       275\n",
      "weighted avg       0.81      0.81      0.81       275\n",
      "\n"
     ]
    }
   ],
   "source": [
    "print(  '.                      classification report                        .\\n',\n",
    "      classification_report(Y_test,y_pred_testGBC))\n"
   ]
  },
  {
   "cell_type": "code",
   "execution_count": 69,
   "id": "327f6a61",
   "metadata": {},
   "outputs": [
    {
     "data": {
      "image/png": "[encoded data removed]",
      "text/plain": [
       "<Figure size 640x480 with 1 Axes>"
      ]
     },
     "metadata": {},
     "output_type": "display_data"
    },
    {
     "name": "stdout",
     "output_type": "stream",
     "text": [
      " Here we can area under the curve is --> 0.8054051184028885\n"
     ]
    }
   ],
   "source": [
    "fpr, tpr, thresholds = metrics.roc_curve(Y_test, y_pred_testGBC)\n",
    "roc_auc = metrics.auc(fpr,tpr)\n",
    "display = metrics.RocCurveDisplay(fpr =fpr,tpr =tpr , roc_auc = roc_auc , estimator_name =\"GradientBoosting Classifier\") \n",
    "display.plot(color='red', linestyle='--')\n",
    "plt.title('ROC Curve of Gradient Boosting Classifier Model', color='brown')\n",
    "plt.show()\n",
    "print(' Here we can area under the curve is -->',roc_auc)"
   ]
  },
  {
   "cell_type": "markdown",
   "id": "00ada8d7",
   "metadata": {},
   "source": [
    "#### KNN"
   ]
  },
  {
   "cell_type": "code",
   "execution_count": 70,
   "id": "72fefbcc",
   "metadata": {},
   "outputs": [
    {
     "name": "stdout",
     "output_type": "stream",
     "text": [
      "accuracy score of trained data---> 0.8809234507897934\n"
     ]
    }
   ],
   "source": [
    "KNN =KNeighborsClassifier()\n",
    "KNN.fit(X_train, Y_train)\n",
    "y_pred = KNN.predict(X_train)\n",
    "accuracy = accuracy_score( Y_train,y_pred ) # checking train data \n",
    "print(\"accuracy score of trained data--->\",accuracy)"
   ]
  },
  {
   "cell_type": "code",
   "execution_count": 71,
   "id": "61e62263",
   "metadata": {},
   "outputs": [
    {
     "name": "stdout",
     "output_type": "stream",
     "text": [
      "accuracy score oftest data--> 0.7709090909090909\n"
     ]
    }
   ],
   "source": [
    "y_pred_testKNN  = KNN.predict(X_test)\n",
    "accuracy = accuracy_score( Y_test,y_pred_testKNN ) # checking test data \n",
    "print('accuracy score oftest data-->',accuracy)"
   ]
  },
  {
   "cell_type": "code",
   "execution_count": 72,
   "id": "45d68641",
   "metadata": {},
   "outputs": [
    {
     "name": "stdout",
     "output_type": "stream",
     "text": [
      ".                      classification report                        .\n",
      "               precision    recall  f1-score   support\n",
      "\n",
      "           0       0.81      0.75      0.78       146\n",
      "           1       0.74      0.80      0.77       129\n",
      "\n",
      "    accuracy                           0.77       275\n",
      "   macro avg       0.77      0.77      0.77       275\n",
      "weighted avg       0.77      0.77      0.77       275\n",
      "\n"
     ]
    }
   ],
   "source": [
    "print(  '.                      classification report                        .\\n',\n",
    "      classification_report(Y_test,y_pred_testKNN))\n"
   ]
  },
  {
   "cell_type": "code",
   "execution_count": 73,
   "id": "e5942b20",
   "metadata": {},
   "outputs": [
    {
     "data": {
      "image/png": "[encoded data removed]",
      "text/plain": [
       "<Figure size 640x480 with 1 Axes>"
      ]
     },
     "metadata": {},
     "output_type": "display_data"
    },
    {
     "name": "stdout",
     "output_type": "stream",
     "text": [
      " Here we can area under the curve is --> 0.7725124774344272\n"
     ]
    }
   ],
   "source": [
    "fpr, tpr, thresholds = metrics.roc_curve(Y_test, y_pred_testKNN)\n",
    "roc_auc = metrics.auc(fpr,tpr)\n",
    "display = metrics.RocCurveDisplay(fpr =fpr,tpr =tpr , roc_auc = roc_auc , estimator_name =\"KNeighborsClassifier\") \n",
    "display.plot(color='red', linestyle='--')\n",
    "plt.title('ROC Curve of KNeighborsClassifier Model', color='brown')\n",
    "plt.show()\n",
    "print(' Here we can area under the curve is -->',roc_auc)"
   ]
  },
  {
   "cell_type": "markdown",
   "id": "ece64c1b",
   "metadata": {},
   "source": [
    "we will further understand which model is best predicting by using cross validation "
   ]
  },
  {
   "cell_type": "markdown",
   "id": "e387dc9f",
   "metadata": {},
   "source": [
    "## Cross Validation"
   ]
  },
  {
   "cell_type": "code",
   "execution_count": 74,
   "id": "c217e6b4",
   "metadata": {},
   "outputs": [],
   "source": [
    "from sklearn.model_selection import cross_val_score"
   ]
  },
  {
   "cell_type": "code",
   "execution_count": 75,
   "id": "d32623f5",
   "metadata": {},
   "outputs": [
    {
     "name": "stdout",
     "output_type": "stream",
     "text": [
      "Cscore for RandomForest Classifier->  [0.79090909 0.82727273 0.82727273 0.87671233 0.85844749]\n",
      "mean of cscore->  0.8361228725612287\n",
      "difference between accuracy and cross validation score is -0.017941054379410515\n"
     ]
    }
   ],
   "source": [
    "cscore1 = cross_val_score(rfc,x1,y1)\n",
    "print('Cscore for RandomForest Classifier-> ',cscore1)\n",
    "print('mean of cscore-> ',cscore1.mean())\n",
    "print('difference between accuracy and cross validation score is',accuracy_score(Y_test,y_pred_testRFC)-cscore1.mean())"
   ]
  },
  {
   "cell_type": "code",
   "execution_count": 76,
   "id": "7f3852a8",
   "metadata": {},
   "outputs": [
    {
     "name": "stdout",
     "output_type": "stream",
     "text": [
      "Cscore for Kneighbours Classifier  [0.78181818 0.83636364 0.79090909 0.85844749 0.85388128]\n",
      "mean of cscore->  0.8242839352428394\n",
      "difference between accuracy and cross validation score is -0.053374844333748506\n"
     ]
    }
   ],
   "source": [
    "cscore2 = cross_val_score(KNN,x1,y1)\n",
    "print('Cscore for Kneighbours Classifier ',cscore2)\n",
    "print('mean of cscore-> ',cscore2.mean())\n",
    "print('difference between accuracy and cross validation score is',accuracy_score(Y_test,y_pred_testKNN)-cscore2.mean())"
   ]
  },
  {
   "cell_type": "code",
   "execution_count": 77,
   "id": "fdef8d97",
   "metadata": {},
   "outputs": [
    {
     "name": "stdout",
     "output_type": "stream",
     "text": [
      "Cscore for AdaBoost Classifier->  [0.74545455 0.83636364 0.78181818 0.87214612 0.79908676]\n",
      "mean of cscore->  0.8069738480697385\n",
      "difference between accuracy and cross validation score is -0.03606475716064761\n"
     ]
    }
   ],
   "source": [
    "cscore3 = cross_val_score(abc,x1,y1)\n",
    "print('Cscore for AdaBoost Classifier-> ',cscore3)\n",
    "print('mean of cscore-> ',cscore3.mean())\n",
    "print('difference between accuracy and cross validation score is',accuracy_score(Y_test,y_pred_testABC)-cscore3.mean())"
   ]
  },
  {
   "cell_type": "code",
   "execution_count": 78,
   "id": "6e0cff7d",
   "metadata": {},
   "outputs": [
    {
     "name": "stdout",
     "output_type": "stream",
     "text": [
      "Cscore for Gradient Boost Classifier ->  [0.80454545 0.82272727 0.82272727 0.89041096 0.85388128]\n",
      "mean of cscore->  0.8388584474885846\n",
      "difference between accuracy and cross validation score is -0.03158572021585737\n"
     ]
    }
   ],
   "source": [
    "cscore4 = cross_val_score(GBC,x1,y1)\n",
    "print('Cscore for Gradient Boost Classifier -> ',cscore4)\n",
    "print('mean of cscore-> ',cscore4.mean())\n",
    "print('difference between accuracy and cross validation score is',accuracy_score(Y_test,y_pred_testGBC)-cscore4.mean())"
   ]
  },
  {
   "cell_type": "code",
   "execution_count": 79,
   "id": "46847b4c",
   "metadata": {},
   "outputs": [
    {
     "name": "stdout",
     "output_type": "stream",
     "text": [
      "Cscore for SUpport Vector Machine->  [0.78181818 0.81818182 0.77727273 0.83105023 0.82648402]\n",
      "mean of cscore->  0.806961394769614\n",
      "difference between accuracy and cross validation score is -0.02514321295143218\n"
     ]
    }
   ],
   "source": [
    "cscore5 = cross_val_score(SVM,x1,y1)\n",
    "print('Cscore for SUpport Vector Machine-> ',cscore5)\n",
    "print('mean of cscore-> ',cscore5.mean())\n",
    "print('difference between accuracy and cross validation score is',accuracy_score(Y_test,y_pred_testSVM)-cscore5.mean())"
   ]
  },
  {
   "cell_type": "code",
   "execution_count": 80,
   "id": "e170d5d4",
   "metadata": {},
   "outputs": [
    {
     "name": "stdout",
     "output_type": "stream",
     "text": [
      "Cscore for Logistic Regression [0.75909091 0.8        0.74545455 0.82191781 0.78995434]\n",
      "mean of cscore->  0.7832835201328352\n",
      "difference between accuracy and cross validation score is -0.03055624740556251\n"
     ]
    }
   ],
   "source": [
    "cscore6 = cross_val_score(log_R,x1,y1)\n",
    "print('Cscore for Logistic Regression',cscore6)\n",
    "print('mean of cscore-> ',cscore6.mean())\n",
    "print('difference between accuracy and cross validation score is',accuracy_score(Y_test,y_pred_testLR)-cscore6.mean())"
   ]
  },
  {
   "cell_type": "markdown",
   "id": "66345c04",
   "metadata": {},
   "source": [
    "##### after analysing cross value score we can conclude RandomForest classifier  accuracy is good i.e. 84%approx with least deviation of only 1% so we choose Random Forest Classifier"
   ]
  },
  {
   "cell_type": "markdown",
   "id": "97598acd",
   "metadata": {},
   "source": [
    "## Hyper parameter tuning"
   ]
  },
  {
   "cell_type": "code",
   "execution_count": 82,
   "id": "dead4e30",
   "metadata": {},
   "outputs": [
    {
     "data": {
      "text/plain": [
       "dict_keys(['bootstrap', 'ccp_alpha', 'class_weight', 'criterion', 'max_depth', 'max_features', 'max_leaf_nodes', 'max_samples', 'min_impurity_decrease', 'min_samples_leaf', 'min_samples_split', 'min_weight_fraction_leaf', 'n_estimators', 'n_jobs', 'oob_score', 'random_state', 'verbose', 'warm_start'])"
      ]
     },
     "execution_count": 82,
     "metadata": {},
     "output_type": "execute_result"
    }
   ],
   "source": [
    "rfc.get_params().keys()"
   ]
  },
  {
   "cell_type": "code",
   "execution_count": 83,
   "id": "5d96f075",
   "metadata": {},
   "outputs": [],
   "source": [
    "# Choosing parameters for our grid search CV\n",
    "parameters = { 'criterion': [\"gini\", \"entropy\", \"log_loss\"],\n",
    "               'max_depth': [None, 10, 20, 30],  \n",
    "               'n_jobs': [-1, 2, None],\n",
    "               'n_estimators': [100, 200, 300],\n",
    "               'min_samples_split': [2, 5, 10],\n",
    "               }\n",
    "\n"
   ]
  },
  {
   "cell_type": "code",
   "execution_count": 84,
   "id": "c821c70c",
   "metadata": {},
   "outputs": [],
   "source": [
    "GSC = GridSearchCV(RandomForestClassifier(),parameters,cv= 5)"
   ]
  },
  {
   "cell_type": "code",
   "execution_count": 85,
   "id": "f337b019",
   "metadata": {},
   "outputs": [
    {
     "data": {
      "text/plain": [
       "GridSearchCV(cv=5, estimator=RandomForestClassifier(),\n",
       "             param_grid={'criterion': ['gini', 'entropy', 'log_loss'],\n",
       "                         'max_depth': [None, 10, 20, 30],\n",
       "                         'min_samples_split': [2, 5, 10],\n",
       "                         'n_estimators': [100, 200, 300],\n",
       "                         'n_jobs': [-1, 2, None]})"
      ]
     },
     "execution_count": 85,
     "metadata": {},
     "output_type": "execute_result"
    }
   ],
   "source": [
    "GSC.fit(X_train,Y_train)"
   ]
  },
  {
   "cell_type": "code",
   "execution_count": 86,
   "id": "9d47a440",
   "metadata": {},
   "outputs": [
    {
     "data": {
      "text/plain": [
       "{'criterion': 'gini',\n",
       " 'max_depth': None,\n",
       " 'min_samples_split': 5,\n",
       " 'n_estimators': 100,\n",
       " 'n_jobs': None}"
      ]
     },
     "execution_count": 86,
     "metadata": {},
     "output_type": "execute_result"
    }
   ],
   "source": [
    "GSC.best_params_ "
   ]
  },
  {
   "cell_type": "code",
   "execution_count": null,
   "id": "e3e595c3",
   "metadata": {},
   "outputs": [],
   "source": []
  },
  {
   "cell_type": "code",
   "execution_count": 87,
   "id": "45a90208",
   "metadata": {},
   "outputs": [
    {
     "name": "stdout",
     "output_type": "stream",
     "text": [
      "accuracy score of trained data---> 0.9586877278250304\n"
     ]
    }
   ],
   "source": [
    "rfc_final = RandomForestClassifier(criterion= 'gini',max_depth= None, n_estimators = 100, n_jobs = None , min_samples_split= 5 )\n",
    "rfc_final.fit(X_train, Y_train)\n",
    "y_pred = rfc_final.predict(X_train)\n",
    "accuracy = accuracy_score( Y_train,y_pred ) # checking train data \n",
    "print(\"accuracy score of trained data--->\",accuracy)"
   ]
  },
  {
   "cell_type": "code",
   "execution_count": 88,
   "id": "68d5c7b2",
   "metadata": {},
   "outputs": [
    {
     "name": "stdout",
     "output_type": "stream",
     "text": [
      "accuracy score of test data--> 0.8363636363636363\n"
     ]
    }
   ],
   "source": [
    "y_pred_testRFC  = rfc_final.predict(X_test)\n",
    "accuracy = accuracy_score( Y_test,y_pred_testRFC ) # checking test data \n",
    "print('accuracy score of test data-->',accuracy)"
   ]
  },
  {
   "cell_type": "markdown",
   "id": "7ad1ae7f",
   "metadata": {},
   "source": [
    "we can see prediction score increases from 81% to 83.63%"
   ]
  },
  {
   "cell_type": "markdown",
   "id": "35510a35",
   "metadata": {},
   "source": [
    "## Model Saving"
   ]
  },
  {
   "cell_type": "code",
   "execution_count": 89,
   "id": "a7964dde",
   "metadata": {},
   "outputs": [
    {
     "data": {
      "text/plain": [
       "['model for Titanic ']"
      ]
     },
     "execution_count": 89,
     "metadata": {},
     "output_type": "execute_result"
    }
   ],
   "source": [
    "import joblib\n",
    "joblib.dump(rfc_final,'model for Titanic ')"
   ]
  },
  {
   "cell_type": "markdown",
   "id": "8859c842",
   "metadata": {},
   "source": [
    "# Prediction "
   ]
  },
  {
   "cell_type": "code",
   "execution_count": 90,
   "id": "fa2c2478",
   "metadata": {},
   "outputs": [
    {
     "data": {
      "text/plain": [
       "array([0, 1, 1, 0, 1, 1, 1, 1, 0, 1, 0, 1, 1, 0, 1, 0, 1, 0, 1, 0, 0, 0,\n",
       "       0, 0, 0, 0, 0, 1, 1, 1, 0, 1, 0, 0, 0, 0, 0, 0, 1, 0, 0, 1, 1, 1,\n",
       "       1, 1, 0, 0, 1, 0, 0, 1, 1, 1, 0, 0, 1, 1, 1, 1, 0, 0, 0, 0, 1, 1,\n",
       "       0, 0, 0, 0, 0, 0, 1, 1, 0, 0, 1, 0, 1, 1, 1, 1, 1, 1, 1, 1, 0, 0,\n",
       "       1, 1, 0, 0, 0, 1, 1, 0, 0, 0, 1, 1, 1, 1, 0, 1, 1, 0, 1, 0, 1, 0,\n",
       "       0, 0, 1, 0, 0, 0, 0, 0, 1, 0, 1, 0, 1, 0, 1, 1, 0, 1, 0, 1, 1, 1,\n",
       "       1, 0, 0, 0, 0, 1, 1, 1, 1, 0, 1, 1, 0, 1, 0, 0, 0, 0, 0, 0, 0, 1,\n",
       "       1, 0, 0, 0, 0, 0, 1, 0, 0, 0, 1, 1, 1, 0, 1, 0, 1, 0, 1, 1, 0, 0,\n",
       "       0, 0, 0, 1, 0, 1, 0, 0, 1, 0, 1, 0, 0, 0, 0, 0, 0, 1, 0, 0, 0, 0,\n",
       "       1, 1, 0, 0, 0, 0, 0, 1, 0, 0, 0, 0, 0, 0, 0, 0, 1, 1, 1, 0, 1, 0,\n",
       "       0, 0, 0, 0, 1, 1, 1, 0, 1, 0, 0, 1, 0, 1, 1, 0, 1, 1, 1, 1, 0, 1,\n",
       "       1, 0, 0, 1, 0, 1, 0, 1, 1, 1, 0, 0, 0, 1, 1, 1, 0, 1, 1, 0, 1, 0,\n",
       "       0, 1, 1, 1, 1, 1, 0, 0, 1, 0, 1], dtype=int64)"
      ]
     },
     "execution_count": 90,
     "metadata": {},
     "output_type": "execute_result"
    }
   ],
   "source": [
    "mymodel = joblib.load('model for titanic')\n",
    "prdt = mymodel.predict(X_test)\n",
    "prdt"
   ]
  },
  {
   "cell_type": "code",
   "execution_count": 91,
   "id": "b21080e3",
   "metadata": {},
   "outputs": [
    {
     "data": {
      "text/html": [
       "<div>\n",
       "<style scoped>\n",
       "    .dataframe tbody tr th:only-of-type {\n",
       "        vertical-align: middle;\n",
       "    }\n",
       "\n",
       "    .dataframe tbody tr th {\n",
       "        vertical-align: top;\n",
       "    }\n",
       "\n",
       "    .dataframe thead th {\n",
       "        text-align: right;\n",
       "    }\n",
       "</style>\n",
       "<table border=\"1\" class=\"dataframe\">\n",
       "  <thead>\n",
       "    <tr style=\"text-align: right;\">\n",
       "      <th></th>\n",
       "      <th>predicted</th>\n",
       "      <th>original</th>\n",
       "    </tr>\n",
       "  </thead>\n",
       "  <tbody>\n",
       "    <tr>\n",
       "      <th>0</th>\n",
       "      <td>0</td>\n",
       "      <td>0</td>\n",
       "    </tr>\n",
       "    <tr>\n",
       "      <th>1</th>\n",
       "      <td>1</td>\n",
       "      <td>0</td>\n",
       "    </tr>\n",
       "    <tr>\n",
       "      <th>2</th>\n",
       "      <td>1</td>\n",
       "      <td>1</td>\n",
       "    </tr>\n",
       "    <tr>\n",
       "      <th>3</th>\n",
       "      <td>0</td>\n",
       "      <td>0</td>\n",
       "    </tr>\n",
       "    <tr>\n",
       "      <th>4</th>\n",
       "      <td>1</td>\n",
       "      <td>1</td>\n",
       "    </tr>\n",
       "    <tr>\n",
       "      <th>...</th>\n",
       "      <td>...</td>\n",
       "      <td>...</td>\n",
       "    </tr>\n",
       "    <tr>\n",
       "      <th>270</th>\n",
       "      <td>0</td>\n",
       "      <td>0</td>\n",
       "    </tr>\n",
       "    <tr>\n",
       "      <th>271</th>\n",
       "      <td>0</td>\n",
       "      <td>0</td>\n",
       "    </tr>\n",
       "    <tr>\n",
       "      <th>272</th>\n",
       "      <td>1</td>\n",
       "      <td>1</td>\n",
       "    </tr>\n",
       "    <tr>\n",
       "      <th>273</th>\n",
       "      <td>0</td>\n",
       "      <td>0</td>\n",
       "    </tr>\n",
       "    <tr>\n",
       "      <th>274</th>\n",
       "      <td>1</td>\n",
       "      <td>1</td>\n",
       "    </tr>\n",
       "  </tbody>\n",
       "</table>\n",
       "<p>275 rows × 2 columns</p>\n",
       "</div>"
      ],
      "text/plain": [
       "     predicted  original\n",
       "0            0         0\n",
       "1            1         0\n",
       "2            1         1\n",
       "3            0         0\n",
       "4            1         1\n",
       "..         ...       ...\n",
       "270          0         0\n",
       "271          0         0\n",
       "272          1         1\n",
       "273          0         0\n",
       "274          1         1\n",
       "\n",
       "[275 rows x 2 columns]"
      ]
     },
     "execution_count": 91,
     "metadata": {},
     "output_type": "execute_result"
    }
   ],
   "source": [
    "Orginal = np.array(Y_test)\n",
    "data1 = pd.DataFrame({'predicted': prdt,'original':Orginal})\n",
    "data1"
   ]
  },
  {
   "cell_type": "markdown",
   "id": "594a95eb",
   "metadata": {},
   "source": [
    "--we can see the prediction based on the model we build"
   ]
  },
  {
   "cell_type": "code",
   "execution_count": null,
   "id": "4c9df8c2",
   "metadata": {},
   "outputs": [],
   "source": []
  }
 ],
 "metadata": {
  "kernelspec": {
   "display_name": "Python 3 (ipykernel)",
   "language": "python",
   "name": "python3"
  },
  "language_info": {
   "codemirror_mode": {
    "name": "ipython",
    "version": 3
   },
   "file_extension": ".py",
   "mimetype": "text/x-python",
   "name": "python",
   "nbconvert_exporter": "python",
   "pygments_lexer": "ipython3",
   "version": "3.9.13"
  }
 },
 "nbformat": 4,
 "nbformat_minor": 5
}
